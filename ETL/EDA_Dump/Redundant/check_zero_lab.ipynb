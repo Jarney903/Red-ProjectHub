{
 "cells": [
  {
   "cell_type": "code",
   "execution_count": 1,
   "id": "7c300f86",
   "metadata": {},
   "outputs": [],
   "source": [
    "import pandas as pd\n",
    "import numpy as np"
   ]
  },
  {
   "cell_type": "code",
   "execution_count": 2,
   "id": "7c8fab6f",
   "metadata": {},
   "outputs": [],
   "source": [
    "file = pd.read_csv(\"Resources/LAB_Data_V.2.csv\")\n",
    "lab_data = pd.DataFrame(file)"
   ]
  },
  {
   "cell_type": "code",
   "execution_count": 3,
   "id": "daa969a0",
   "metadata": {},
   "outputs": [
    {
     "data": {
      "text/html": [
       "<div>\n",
       "<style scoped>\n",
       "    .dataframe tbody tr th:only-of-type {\n",
       "        vertical-align: middle;\n",
       "    }\n",
       "\n",
       "    .dataframe tbody tr th {\n",
       "        vertical-align: top;\n",
       "    }\n",
       "\n",
       "    .dataframe thead th {\n",
       "        text-align: right;\n",
       "    }\n",
       "</style>\n",
       "<table border=\"1\" class=\"dataframe\">\n",
       "  <thead>\n",
       "    <tr style=\"text-align: right;\">\n",
       "      <th></th>\n",
       "      <th>Date</th>\n",
       "      <th>TA.OVH.RECYCLE.NC4.VOLPCT</th>\n",
       "    </tr>\n",
       "  </thead>\n",
       "  <tbody>\n",
       "    <tr>\n",
       "      <th>0</th>\n",
       "      <td>7/15/2022 13:00</td>\n",
       "      <td>11.19999981</td>\n",
       "    </tr>\n",
       "    <tr>\n",
       "      <th>1</th>\n",
       "      <td>7/15/2022 6:00</td>\n",
       "      <td>13.89999962</td>\n",
       "    </tr>\n",
       "    <tr>\n",
       "      <th>2</th>\n",
       "      <td>7/14/2022 13:00</td>\n",
       "      <td>13.60000038</td>\n",
       "    </tr>\n",
       "    <tr>\n",
       "      <th>3</th>\n",
       "      <td>7/14/2022 6:00</td>\n",
       "      <td>11</td>\n",
       "    </tr>\n",
       "    <tr>\n",
       "      <th>4</th>\n",
       "      <td>7/13/2022 13:00</td>\n",
       "      <td>10.69999981</td>\n",
       "    </tr>\n",
       "  </tbody>\n",
       "</table>\n",
       "</div>"
      ],
      "text/plain": [
       "              Date TA.OVH.RECYCLE.NC4.VOLPCT\n",
       "0  7/15/2022 13:00               11.19999981\n",
       "1   7/15/2022 6:00               13.89999962\n",
       "2  7/14/2022 13:00               13.60000038\n",
       "3   7/14/2022 6:00                        11\n",
       "4  7/13/2022 13:00               10.69999981"
      ]
     },
     "execution_count": 3,
     "metadata": {},
     "output_type": "execute_result"
    }
   ],
   "source": [
    "lab_data.head()"
   ]
  },
  {
   "cell_type": "code",
   "execution_count": 20,
   "id": "1ea71598",
   "metadata": {},
   "outputs": [],
   "source": [
    "lab_data.loc[lab_data['TA.OVH.RECYCLE.NC4.VOLPCT'] == \"I/O Timeout\"] = np.nan\n",
    "lab_data.loc[lab_data['TA.OVH.RECYCLE.NC4.VOLPCT'] == \"Error\"] = np.nan\n",
    "lab_data.loc[lab_data['TA.OVH.RECYCLE.NC4.VOLPCT'] == \"Bad\"] = np.nan\n",
    "lab_data.loc[lab_data['TA.OVH.RECYCLE.NC4.VOLPCT'] == \"Bad Input\"] = np.nan"
   ]
  },
  {
   "cell_type": "code",
   "execution_count": 21,
   "id": "f90f4117",
   "metadata": {},
   "outputs": [],
   "source": [
    "lab_data['TA.OVH.RECYCLE.NC4.VOLPCT'] = lab_data['TA.OVH.RECYCLE.NC4.VOLPCT'].astype(float)"
   ]
  },
  {
   "cell_type": "code",
   "execution_count": 22,
   "id": "5fd14996",
   "metadata": {},
   "outputs": [
    {
     "data": {
      "text/plain": [
       "Date                          object\n",
       "TA.OVH.RECYCLE.NC4.VOLPCT    float64\n",
       "dtype: object"
      ]
     },
     "execution_count": 22,
     "metadata": {},
     "output_type": "execute_result"
    }
   ],
   "source": [
    "lab_data.dtypes"
   ]
  },
  {
   "cell_type": "code",
   "execution_count": 24,
   "id": "833c5c34",
   "metadata": {},
   "outputs": [
    {
     "data": {
      "text/html": [
       "<div>\n",
       "<style scoped>\n",
       "    .dataframe tbody tr th:only-of-type {\n",
       "        vertical-align: middle;\n",
       "    }\n",
       "\n",
       "    .dataframe tbody tr th {\n",
       "        vertical-align: top;\n",
       "    }\n",
       "\n",
       "    .dataframe thead th {\n",
       "        text-align: right;\n",
       "    }\n",
       "</style>\n",
       "<table border=\"1\" class=\"dataframe\">\n",
       "  <thead>\n",
       "    <tr style=\"text-align: right;\">\n",
       "      <th></th>\n",
       "      <th>Date</th>\n",
       "      <th>TA.OVH.RECYCLE.NC4.VOLPCT</th>\n",
       "    </tr>\n",
       "  </thead>\n",
       "  <tbody>\n",
       "    <tr>\n",
       "      <th>447</th>\n",
       "      <td>11/11/2021 13:00</td>\n",
       "      <td>0.0</td>\n",
       "    </tr>\n",
       "    <tr>\n",
       "      <th>1282</th>\n",
       "      <td>6/10/2020 13:00</td>\n",
       "      <td>0.0</td>\n",
       "    </tr>\n",
       "    <tr>\n",
       "      <th>1576</th>\n",
       "      <td>43741.54167</td>\n",
       "      <td>0.0</td>\n",
       "    </tr>\n",
       "    <tr>\n",
       "      <th>1588</th>\n",
       "      <td>43735.54167</td>\n",
       "      <td>0.0</td>\n",
       "    </tr>\n",
       "    <tr>\n",
       "      <th>1659</th>\n",
       "      <td>43695.54167</td>\n",
       "      <td>0.0</td>\n",
       "    </tr>\n",
       "    <tr>\n",
       "      <th>1698</th>\n",
       "      <td>43676.25</td>\n",
       "      <td>0.0</td>\n",
       "    </tr>\n",
       "    <tr>\n",
       "      <th>1727</th>\n",
       "      <td>43637.54167</td>\n",
       "      <td>0.0</td>\n",
       "    </tr>\n",
       "    <tr>\n",
       "      <th>12423</th>\n",
       "      <td>43180.54167</td>\n",
       "      <td>0.0</td>\n",
       "    </tr>\n",
       "    <tr>\n",
       "      <th>13225</th>\n",
       "      <td>42725.54167</td>\n",
       "      <td>0.0</td>\n",
       "    </tr>\n",
       "    <tr>\n",
       "      <th>13521</th>\n",
       "      <td>42565.54167</td>\n",
       "      <td>0.0</td>\n",
       "    </tr>\n",
       "    <tr>\n",
       "      <th>14734</th>\n",
       "      <td>41869.54167</td>\n",
       "      <td>0.0</td>\n",
       "    </tr>\n",
       "    <tr>\n",
       "      <th>15476</th>\n",
       "      <td>41335.25</td>\n",
       "      <td>0.0</td>\n",
       "    </tr>\n",
       "  </tbody>\n",
       "</table>\n",
       "</div>"
      ],
      "text/plain": [
       "                   Date  TA.OVH.RECYCLE.NC4.VOLPCT\n",
       "447    11/11/2021 13:00                        0.0\n",
       "1282    6/10/2020 13:00                        0.0\n",
       "1576        43741.54167                        0.0\n",
       "1588        43735.54167                        0.0\n",
       "1659        43695.54167                        0.0\n",
       "1698           43676.25                        0.0\n",
       "1727        43637.54167                        0.0\n",
       "12423       43180.54167                        0.0\n",
       "13225       42725.54167                        0.0\n",
       "13521       42565.54167                        0.0\n",
       "14734       41869.54167                        0.0\n",
       "15476          41335.25                        0.0"
      ]
     },
     "execution_count": 24,
     "metadata": {},
     "output_type": "execute_result"
    }
   ],
   "source": [
    "lab_data.loc[lab_data['TA.OVH.RECYCLE.NC4.VOLPCT'] <=0]"
   ]
  },
  {
   "cell_type": "code",
   "execution_count": null,
   "id": "91ee7e17",
   "metadata": {},
   "outputs": [],
   "source": []
  }
 ],
 "metadata": {
  "kernelspec": {
   "display_name": "PythonData",
   "language": "python",
   "name": "pythondata"
  },
  "language_info": {
   "codemirror_mode": {
    "name": "ipython",
    "version": 3
   },
   "file_extension": ".py",
   "mimetype": "text/x-python",
   "name": "python",
   "nbconvert_exporter": "python",
   "pygments_lexer": "ipython3",
   "version": "3.9.7"
  }
 },
 "nbformat": 4,
 "nbformat_minor": 5
}
