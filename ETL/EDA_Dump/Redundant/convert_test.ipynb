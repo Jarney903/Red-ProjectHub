{
 "cells": [
  {
   "cell_type": "code",
   "execution_count": 1,
   "id": "8a022fbc",
   "metadata": {},
   "outputs": [],
   "source": [
    "import pandas as pd\n",
    "import numpy as np"
   ]
  },
  {
   "cell_type": "code",
   "execution_count": 2,
   "id": "176df983",
   "metadata": {},
   "outputs": [
    {
     "data": {
      "text/html": [
       "<div>\n",
       "<style scoped>\n",
       "    .dataframe tbody tr th:only-of-type {\n",
       "        vertical-align: middle;\n",
       "    }\n",
       "\n",
       "    .dataframe tbody tr th {\n",
       "        vertical-align: top;\n",
       "    }\n",
       "\n",
       "    .dataframe thead th {\n",
       "        text-align: right;\n",
       "    }\n",
       "</style>\n",
       "<table border=\"1\" class=\"dataframe\">\n",
       "  <thead>\n",
       "    <tr style=\"text-align: right;\">\n",
       "      <th></th>\n",
       "      <th>Date</th>\n",
       "      <th>TA.LAB.NC4.VOLPCT</th>\n",
       "      <th>TA.Charge.BPD</th>\n",
       "      <th>TA.OH.PSIG</th>\n",
       "      <th>TA.Tray4.F</th>\n",
       "      <th>TA.OH.F</th>\n",
       "      <th>TA.RECV.PCT</th>\n",
       "      <th>TA.RECV.PSIG</th>\n",
       "      <th>TA.REFLUX.BPD</th>\n",
       "      <th>TA.RECYCLE.TO.CONTACT.BPD</th>\n",
       "      <th>TA.RECYCLE.TO.CONTACT.F</th>\n",
       "      <th>TA.TRAY39.F</th>\n",
       "      <th>TA.TRAY45.F</th>\n",
       "      <th>TA.DP.PSIG</th>\n",
       "      <th>TA.BTM.PSIG</th>\n",
       "      <th>TA.BTM.LEVEL.PCT</th>\n",
       "      <th>TA.BTM.REBOIL.OUT.F</th>\n",
       "      <th>TA.TOP.REBOIL.OUT.F</th>\n",
       "    </tr>\n",
       "  </thead>\n",
       "  <tbody>\n",
       "    <tr>\n",
       "      <th>0</th>\n",
       "      <td>7/15/2022 13:00</td>\n",
       "      <td>11.20</td>\n",
       "      <td>10731.7002</td>\n",
       "      <td>99.30152893</td>\n",
       "      <td>134.6903534</td>\n",
       "      <td>133.1420898</td>\n",
       "      <td>1.432772994</td>\n",
       "      <td>100.6223145</td>\n",
       "      <td>5919.916992</td>\n",
       "      <td>6399.555664</td>\n",
       "      <td>97.03623199</td>\n",
       "      <td>160.8286591</td>\n",
       "      <td>177.0243378</td>\n",
       "      <td>0.66986084</td>\n",
       "      <td>98.63166809</td>\n",
       "      <td>74.77849579</td>\n",
       "      <td>315.3513489</td>\n",
       "      <td>188.9165344</td>\n",
       "    </tr>\n",
       "    <tr>\n",
       "      <th>1</th>\n",
       "      <td>7/15/2022 6:00</td>\n",
       "      <td>13.90</td>\n",
       "      <td>10332.8252</td>\n",
       "      <td>99.47181702</td>\n",
       "      <td>134.7993469</td>\n",
       "      <td>133.2794189</td>\n",
       "      <td>3.479724407</td>\n",
       "      <td>99.48440552</td>\n",
       "      <td>5935.238281</td>\n",
       "      <td>6395.504883</td>\n",
       "      <td>93.11539459</td>\n",
       "      <td>159.8332214</td>\n",
       "      <td>175.662384</td>\n",
       "      <td>0.578268826</td>\n",
       "      <td>98.89743805</td>\n",
       "      <td>72.92869568</td>\n",
       "      <td>312.3144531</td>\n",
       "      <td>188.0589294</td>\n",
       "    </tr>\n",
       "    <tr>\n",
       "      <th>2</th>\n",
       "      <td>7/14/2022 13:00</td>\n",
       "      <td>13.60</td>\n",
       "      <td>9904.880859</td>\n",
       "      <td>98.97205353</td>\n",
       "      <td>134.3727112</td>\n",
       "      <td>132.7810669</td>\n",
       "      <td>2.860878468</td>\n",
       "      <td>99.41940308</td>\n",
       "      <td>5968.467773</td>\n",
       "      <td>5933.965332</td>\n",
       "      <td>97.99095917</td>\n",
       "      <td>161.156311</td>\n",
       "      <td>178.83255</td>\n",
       "      <td>0.781860352</td>\n",
       "      <td>98.19156647</td>\n",
       "      <td>73.68263245</td>\n",
       "      <td>318.3023071</td>\n",
       "      <td>191.8672333</td>\n",
       "    </tr>\n",
       "    <tr>\n",
       "      <th>3</th>\n",
       "      <td>7/14/2022 6:00</td>\n",
       "      <td>11.00</td>\n",
       "      <td>9641.806641</td>\n",
       "      <td>99.94731903</td>\n",
       "      <td>134.9676514</td>\n",
       "      <td>133.2887726</td>\n",
       "      <td>4.899298191</td>\n",
       "      <td>99.85849762</td>\n",
       "      <td>6020.976074</td>\n",
       "      <td>5902.112793</td>\n",
       "      <td>92.6629715</td>\n",
       "      <td>159.7163849</td>\n",
       "      <td>176.0884705</td>\n",
       "      <td>0.605773926</td>\n",
       "      <td>99.33746338</td>\n",
       "      <td>74.87386322</td>\n",
       "      <td>312.1195374</td>\n",
       "      <td>187.9542999</td>\n",
       "    </tr>\n",
       "    <tr>\n",
       "      <th>4</th>\n",
       "      <td>7/13/2022 13:00</td>\n",
       "      <td>10.70</td>\n",
       "      <td>9876.027344</td>\n",
       "      <td>99.60662842</td>\n",
       "      <td>135.2410889</td>\n",
       "      <td>133.3068848</td>\n",
       "      <td>1.202635884</td>\n",
       "      <td>100.4339676</td>\n",
       "      <td>5917.750488</td>\n",
       "      <td>5749.19873</td>\n",
       "      <td>98.54929352</td>\n",
       "      <td>163.9949493</td>\n",
       "      <td>182.7541046</td>\n",
       "      <td>0.64453125</td>\n",
       "      <td>98.95614624</td>\n",
       "      <td>76.2322998</td>\n",
       "      <td>318.6087952</td>\n",
       "      <td>195.6160431</td>\n",
       "    </tr>\n",
       "  </tbody>\n",
       "</table>\n",
       "</div>"
      ],
      "text/plain": [
       "              Date TA.LAB.NC4.VOLPCT TA.Charge.BPD   TA.OH.PSIG   TA.Tray4.F  \\\n",
       "0  7/15/2022 13:00             11.20    10731.7002  99.30152893  134.6903534   \n",
       "1   7/15/2022 6:00             13.90    10332.8252  99.47181702  134.7993469   \n",
       "2  7/14/2022 13:00             13.60   9904.880859  98.97205353  134.3727112   \n",
       "3   7/14/2022 6:00             11.00   9641.806641  99.94731903  134.9676514   \n",
       "4  7/13/2022 13:00             10.70   9876.027344  99.60662842  135.2410889   \n",
       "\n",
       "       TA.OH.F  TA.RECV.PCT TA.RECV.PSIG TA.REFLUX.BPD  \\\n",
       "0  133.1420898  1.432772994  100.6223145   5919.916992   \n",
       "1  133.2794189  3.479724407  99.48440552   5935.238281   \n",
       "2  132.7810669  2.860878468  99.41940308   5968.467773   \n",
       "3  133.2887726  4.899298191  99.85849762   6020.976074   \n",
       "4  133.3068848  1.202635884  100.4339676   5917.750488   \n",
       "\n",
       "  TA.RECYCLE.TO.CONTACT.BPD TA.RECYCLE.TO.CONTACT.F  TA.TRAY39.F  TA.TRAY45.F  \\\n",
       "0               6399.555664             97.03623199  160.8286591  177.0243378   \n",
       "1               6395.504883             93.11539459  159.8332214   175.662384   \n",
       "2               5933.965332             97.99095917   161.156311    178.83255   \n",
       "3               5902.112793              92.6629715  159.7163849  176.0884705   \n",
       "4                5749.19873             98.54929352  163.9949493  182.7541046   \n",
       "\n",
       "    TA.DP.PSIG  TA.BTM.PSIG TA.BTM.LEVEL.PCT TA.BTM.REBOIL.OUT.F  \\\n",
       "0   0.66986084  98.63166809      74.77849579         315.3513489   \n",
       "1  0.578268826  98.89743805      72.92869568         312.3144531   \n",
       "2  0.781860352  98.19156647      73.68263245         318.3023071   \n",
       "3  0.605773926  99.33746338      74.87386322         312.1195374   \n",
       "4   0.64453125  98.95614624       76.2322998         318.6087952   \n",
       "\n",
       "  TA.TOP.REBOIL.OUT.F  \n",
       "0         188.9165344  \n",
       "1         188.0589294  \n",
       "2         191.8672333  \n",
       "3         187.9542999  \n",
       "4         195.6160431  "
      ]
     },
     "execution_count": 2,
     "metadata": {},
     "output_type": "execute_result"
    }
   ],
   "source": [
    "file = pd.read_csv(\"Resources/TA_Data_V.2.csv\")\n",
    "ta_df = pd.DataFrame(file)\n",
    "ta_df.head()"
   ]
  },
  {
   "cell_type": "code",
   "execution_count": 33,
   "id": "3d23fe9d",
   "metadata": {},
   "outputs": [],
   "source": [
    "#ta_df = ta_df.drop(columns=['Date'])"
   ]
  },
  {
   "cell_type": "code",
   "execution_count": 5,
   "id": "c2ce40c2",
   "metadata": {},
   "outputs": [],
   "source": [
    "names_columns = ['TA.LAB.NC4.VOLPCT',\n",
    "         'TA.Charge.BPD',\n",
    "      'TA.OH.PSIG',\n",
    "      'TA.Tray4.F',\n",
    "      'TA.OH.F',\n",
    "      'TA.RECV.PCT',\n",
    "      'TA.RECV.PSIG',\n",
    "      'TA.REFLUX.BPD',\n",
    "      'TA.RECYCLE.TO.CONTACT.BPD',\n",
    "      'TA.RECYCLE.TO.CONTACT.F',\n",
    "      'TA.TRAY39.F',\n",
    "      'TA.TRAY45.F',\n",
    "      'TA.DP.PSIG',\n",
    "      'TA.BTM.PSIG',\n",
    "      'TA.BTM.LEVEL.PCT',\n",
    "      'TA.BTM.REBOIL.OUT.F',\n",
    "      'TA.TOP.REBOIL.OUT.F']"
   ]
  },
  {
   "cell_type": "code",
   "execution_count": 6,
   "id": "2366ddc8",
   "metadata": {},
   "outputs": [],
   "source": [
    "for name in names_columns:\n",
    "    ta_df.loc[ta_df[name] == \"I/O Timeout\"] = np.nan"
   ]
  },
  {
   "cell_type": "code",
   "execution_count": 7,
   "id": "49b9c165",
   "metadata": {},
   "outputs": [],
   "source": [
    "for name in names_columns:\n",
    "    ta_df.loc[ta_df[name] == \"Error\"] = np.nan"
   ]
  },
  {
   "cell_type": "code",
   "execution_count": 8,
   "id": "cf9fb051",
   "metadata": {},
   "outputs": [],
   "source": [
    "for name in names_columns:\n",
    "    ta_df.loc[ta_df[name] == \"Bad\"] = np.nan"
   ]
  },
  {
   "cell_type": "code",
   "execution_count": 9,
   "id": "7af6d12b",
   "metadata": {},
   "outputs": [],
   "source": [
    "for name in names_columns:\n",
    "    ta_df.loc[ta_df[name] == \"Bad Input\"] = np.nan"
   ]
  },
  {
   "cell_type": "code",
   "execution_count": 10,
   "id": "67565a53",
   "metadata": {},
   "outputs": [
    {
     "data": {
      "text/plain": [
       "Date                         1056\n",
       "TA.LAB.NC4.VOLPCT            1056\n",
       "TA.Charge.BPD                1056\n",
       "TA.OH.PSIG                   1056\n",
       "TA.Tray4.F                   1056\n",
       "TA.OH.F                      1056\n",
       "TA.RECV.PCT                  1056\n",
       "TA.RECV.PSIG                 1056\n",
       "TA.REFLUX.BPD                1056\n",
       "TA.RECYCLE.TO.CONTACT.BPD    1056\n",
       "TA.RECYCLE.TO.CONTACT.F      1056\n",
       "TA.TRAY39.F                  1056\n",
       "TA.TRAY45.F                  1056\n",
       "TA.DP.PSIG                   1056\n",
       "TA.BTM.PSIG                  1056\n",
       "TA.BTM.LEVEL.PCT             1056\n",
       "TA.BTM.REBOIL.OUT.F          1056\n",
       "TA.TOP.REBOIL.OUT.F          1056\n",
       "dtype: int64"
      ]
     },
     "execution_count": 10,
     "metadata": {},
     "output_type": "execute_result"
    }
   ],
   "source": [
    "ta_df.isnull().sum()"
   ]
  },
  {
   "cell_type": "code",
   "execution_count": 11,
   "id": "50225d85",
   "metadata": {},
   "outputs": [],
   "source": [
    "#df['a'] = df['a'].astype(float, errors = 'raise')\n",
    "#for name in names_columns:\n",
    "ta_df['TA.LAB.NC4.VOLPCT'] = ta_df['TA.LAB.NC4.VOLPCT'].astype(float, errors = 'raise')"
   ]
  },
  {
   "cell_type": "code",
   "execution_count": 12,
   "id": "b7fbabf5",
   "metadata": {},
   "outputs": [],
   "source": [
    "# BAD INPUT COLUMN\n",
    "ta_df['TA.Charge.BPD'] = ta_df['TA.Charge.BPD'].astype(float, errors = 'raise')\n",
    "#charge = ta_df['TA.Charge.BPD']\n",
    "#charge.to_csv('charge.csv')\n",
    "\n",
    "# missing values"
   ]
  },
  {
   "cell_type": "code",
   "execution_count": 13,
   "id": "f173cea5",
   "metadata": {},
   "outputs": [],
   "source": [
    "ta_df['TA.OH.PSIG'] = ta_df['TA.OH.PSIG'].astype(float, errors = 'raise')"
   ]
  },
  {
   "cell_type": "code",
   "execution_count": 14,
   "id": "f7f41206",
   "metadata": {},
   "outputs": [],
   "source": [
    "ta_df['TA.Tray4.F'] = ta_df['TA.Tray4.F'].astype(float, errors = 'raise')"
   ]
  },
  {
   "cell_type": "code",
   "execution_count": 15,
   "id": "9558c223",
   "metadata": {},
   "outputs": [],
   "source": [
    "ta_df['TA.OH.F'] = ta_df['TA.OH.F'].astype(float, errors = 'raise')"
   ]
  },
  {
   "cell_type": "code",
   "execution_count": 16,
   "id": "5b71b3d6",
   "metadata": {},
   "outputs": [],
   "source": [
    "ta_df['TA.RECV.PCT'] = ta_df['TA.RECV.PCT'].astype(float, errors = 'raise')"
   ]
  },
  {
   "cell_type": "code",
   "execution_count": 17,
   "id": "4e7ef29b",
   "metadata": {},
   "outputs": [],
   "source": [
    "ta_df['TA.RECV.PSIG'] = ta_df['TA.RECV.PSIG'].astype(float, errors = 'raise')"
   ]
  },
  {
   "cell_type": "code",
   "execution_count": 18,
   "id": "4ea93446",
   "metadata": {},
   "outputs": [],
   "source": [
    "# BAD INPUT\n",
    "ta_df['TA.REFLUX.BPD'] = ta_df['TA.REFLUX.BPD'].astype(float, errors = 'raise')\n",
    "#reflux = ta_df['TA.REFLUX.BPD']\n",
    "#reflux.to_csv('reflux.csv')\n",
    "\n",
    "# missing data values"
   ]
  },
  {
   "cell_type": "code",
   "execution_count": 19,
   "id": "057ce470",
   "metadata": {},
   "outputs": [],
   "source": [
    "# BAD INPUT\n",
    "ta_df['TA.RECYCLE.TO.CONTACT.BPD'] = ta_df['TA.RECYCLE.TO.CONTACT.BPD'].astype(float, errors = 'raise')\n",
    "#recycle = ta_df['TA.RECYCLE.TO.CONTACT.BPD']\n",
    "#recycle.to_csv('recycle.csv')\n",
    "\n",
    "# missing data values"
   ]
  },
  {
   "cell_type": "code",
   "execution_count": 20,
   "id": "95dfa939",
   "metadata": {},
   "outputs": [],
   "source": [
    "ta_df['TA.RECYCLE.TO.CONTACT.F'] = ta_df['TA.RECYCLE.TO.CONTACT.F'].astype(float, errors = 'raise')"
   ]
  },
  {
   "cell_type": "code",
   "execution_count": 21,
   "id": "e3f52464",
   "metadata": {},
   "outputs": [],
   "source": [
    "ta_df['TA.TRAY39.F'] = ta_df['TA.TRAY39.F'].astype(float, errors = 'raise')"
   ]
  },
  {
   "cell_type": "code",
   "execution_count": 22,
   "id": "19f2758e",
   "metadata": {},
   "outputs": [],
   "source": [
    "ta_df['TA.TRAY45.F'] = ta_df['TA.TRAY45.F'].astype(float, errors = 'raise')"
   ]
  },
  {
   "cell_type": "code",
   "execution_count": 23,
   "id": "fd762df4",
   "metadata": {},
   "outputs": [],
   "source": [
    "ta_df['TA.DP.PSIG'] = ta_df['TA.DP.PSIG'].astype(float, errors = 'raise')"
   ]
  },
  {
   "cell_type": "code",
   "execution_count": 24,
   "id": "f5dea149",
   "metadata": {},
   "outputs": [],
   "source": [
    "ta_df['TA.BTM.PSIG'] = ta_df['TA.BTM.PSIG'].astype(float, errors = 'raise')"
   ]
  },
  {
   "cell_type": "code",
   "execution_count": 25,
   "id": "6cbb41a3",
   "metadata": {},
   "outputs": [],
   "source": [
    "# BAD INPUT\n",
    "ta_df['TA.BTM.LEVEL.PCT'] = ta_df['TA.BTM.LEVEL.PCT'].astype(float, errors = 'raise')\n",
    "\n",
    "#btm_level = ta_df['TA.BTM.LEVEL.PCT']\n",
    "#btm_level\n",
    "#btm_level.to_csv(\"btm_level.csv\")\n",
    "\n",
    "# bad input refers to lack of input, there are blanks where values should be"
   ]
  },
  {
   "cell_type": "code",
   "execution_count": 26,
   "id": "5c1b4774",
   "metadata": {},
   "outputs": [],
   "source": [
    "ta_df['TA.BTM.REBOIL.OUT.F'] = ta_df['TA.BTM.REBOIL.OUT.F'].astype(float, errors = 'raise')"
   ]
  },
  {
   "cell_type": "code",
   "execution_count": 27,
   "id": "100789a7",
   "metadata": {},
   "outputs": [],
   "source": [
    "ta_df['TA.TOP.REBOIL.OUT.F'] = ta_df['TA.TOP.REBOIL.OUT.F'].astype(float, errors = 'raise')"
   ]
  },
  {
   "cell_type": "code",
   "execution_count": 28,
   "id": "fa2877f8",
   "metadata": {},
   "outputs": [
    {
     "data": {
      "text/plain": [
       "Date                          object\n",
       "TA.LAB.NC4.VOLPCT            float64\n",
       "TA.Charge.BPD                float64\n",
       "TA.OH.PSIG                   float64\n",
       "TA.Tray4.F                   float64\n",
       "TA.OH.F                      float64\n",
       "TA.RECV.PCT                  float64\n",
       "TA.RECV.PSIG                 float64\n",
       "TA.REFLUX.BPD                float64\n",
       "TA.RECYCLE.TO.CONTACT.BPD    float64\n",
       "TA.RECYCLE.TO.CONTACT.F      float64\n",
       "TA.TRAY39.F                  float64\n",
       "TA.TRAY45.F                  float64\n",
       "TA.DP.PSIG                   float64\n",
       "TA.BTM.PSIG                  float64\n",
       "TA.BTM.LEVEL.PCT             float64\n",
       "TA.BTM.REBOIL.OUT.F          float64\n",
       "TA.TOP.REBOIL.OUT.F          float64\n",
       "dtype: object"
      ]
     },
     "execution_count": 28,
     "metadata": {},
     "output_type": "execute_result"
    }
   ],
   "source": [
    "ta_df.dtypes"
   ]
  },
  {
   "cell_type": "code",
   "execution_count": 29,
   "id": "fe11b5ce",
   "metadata": {},
   "outputs": [
    {
     "data": {
      "text/plain": [
       "Date                         1056\n",
       "TA.LAB.NC4.VOLPCT            1056\n",
       "TA.Charge.BPD                1056\n",
       "TA.OH.PSIG                   1056\n",
       "TA.Tray4.F                   1056\n",
       "TA.OH.F                      1056\n",
       "TA.RECV.PCT                  1056\n",
       "TA.RECV.PSIG                 1056\n",
       "TA.REFLUX.BPD                1056\n",
       "TA.RECYCLE.TO.CONTACT.BPD    1056\n",
       "TA.RECYCLE.TO.CONTACT.F      1056\n",
       "TA.TRAY39.F                  1056\n",
       "TA.TRAY45.F                  1056\n",
       "TA.DP.PSIG                   1056\n",
       "TA.BTM.PSIG                  1056\n",
       "TA.BTM.LEVEL.PCT             1056\n",
       "TA.BTM.REBOIL.OUT.F          1056\n",
       "TA.TOP.REBOIL.OUT.F          1056\n",
       "dtype: int64"
      ]
     },
     "execution_count": 29,
     "metadata": {},
     "output_type": "execute_result"
    }
   ],
   "source": [
    "ta_df.isnull().sum()"
   ]
  },
  {
   "cell_type": "code",
   "execution_count": 30,
   "id": "4619a0a2",
   "metadata": {},
   "outputs": [],
   "source": [
    "ta_df = ta_df.dropna()"
   ]
  },
  {
   "cell_type": "code",
   "execution_count": 34,
   "id": "8e466c70",
   "metadata": {},
   "outputs": [
    {
     "ename": "KeyError",
     "evalue": "\"['Date'] not found in axis\"",
     "output_type": "error",
     "traceback": [
      "\u001b[1;31m---------------------------------------------------------------------------\u001b[0m",
      "\u001b[1;31mKeyError\u001b[0m                                  Traceback (most recent call last)",
      "\u001b[1;32m~\\AppData\\Local\\Temp/ipykernel_20828/1129020152.py\u001b[0m in \u001b[0;36m<module>\u001b[1;34m\u001b[0m\n\u001b[1;32m----> 1\u001b[1;33m \u001b[0mta_df\u001b[0m \u001b[1;33m=\u001b[0m \u001b[0mta_df\u001b[0m\u001b[1;33m.\u001b[0m\u001b[0mdrop\u001b[0m\u001b[1;33m(\u001b[0m\u001b[0mcolumns\u001b[0m\u001b[1;33m=\u001b[0m\u001b[1;33m[\u001b[0m\u001b[1;34m'Date'\u001b[0m\u001b[1;33m]\u001b[0m\u001b[1;33m,\u001b[0m \u001b[0maxis\u001b[0m\u001b[1;33m=\u001b[0m\u001b[1;36m1\u001b[0m\u001b[1;33m)\u001b[0m\u001b[1;33m\u001b[0m\u001b[1;33m\u001b[0m\u001b[0m\n\u001b[0m\u001b[0;32m      2\u001b[0m \u001b[0mta_df\u001b[0m\u001b[1;33m.\u001b[0m\u001b[0mhead\u001b[0m\u001b[1;33m(\u001b[0m\u001b[1;33m)\u001b[0m\u001b[1;33m\u001b[0m\u001b[1;33m\u001b[0m\u001b[0m\n",
      "\u001b[1;32m~\\anaconda3\\envs\\PythonData\\lib\\site-packages\\pandas\\util\\_decorators.py\u001b[0m in \u001b[0;36mwrapper\u001b[1;34m(*args, **kwargs)\u001b[0m\n\u001b[0;32m    309\u001b[0m                     \u001b[0mstacklevel\u001b[0m\u001b[1;33m=\u001b[0m\u001b[0mstacklevel\u001b[0m\u001b[1;33m,\u001b[0m\u001b[1;33m\u001b[0m\u001b[1;33m\u001b[0m\u001b[0m\n\u001b[0;32m    310\u001b[0m                 )\n\u001b[1;32m--> 311\u001b[1;33m             \u001b[1;32mreturn\u001b[0m \u001b[0mfunc\u001b[0m\u001b[1;33m(\u001b[0m\u001b[1;33m*\u001b[0m\u001b[0margs\u001b[0m\u001b[1;33m,\u001b[0m \u001b[1;33m**\u001b[0m\u001b[0mkwargs\u001b[0m\u001b[1;33m)\u001b[0m\u001b[1;33m\u001b[0m\u001b[1;33m\u001b[0m\u001b[0m\n\u001b[0m\u001b[0;32m    312\u001b[0m \u001b[1;33m\u001b[0m\u001b[0m\n\u001b[0;32m    313\u001b[0m         \u001b[1;32mreturn\u001b[0m \u001b[0mwrapper\u001b[0m\u001b[1;33m\u001b[0m\u001b[1;33m\u001b[0m\u001b[0m\n",
      "\u001b[1;32m~\\anaconda3\\envs\\PythonData\\lib\\site-packages\\pandas\\core\\frame.py\u001b[0m in \u001b[0;36mdrop\u001b[1;34m(self, labels, axis, index, columns, level, inplace, errors)\u001b[0m\n\u001b[0;32m   4904\u001b[0m                 \u001b[0mweight\u001b[0m  \u001b[1;36m1.0\u001b[0m     \u001b[1;36m0.8\u001b[0m\u001b[1;33m\u001b[0m\u001b[1;33m\u001b[0m\u001b[0m\n\u001b[0;32m   4905\u001b[0m         \"\"\"\n\u001b[1;32m-> 4906\u001b[1;33m         return super().drop(\n\u001b[0m\u001b[0;32m   4907\u001b[0m             \u001b[0mlabels\u001b[0m\u001b[1;33m=\u001b[0m\u001b[0mlabels\u001b[0m\u001b[1;33m,\u001b[0m\u001b[1;33m\u001b[0m\u001b[1;33m\u001b[0m\u001b[0m\n\u001b[0;32m   4908\u001b[0m             \u001b[0maxis\u001b[0m\u001b[1;33m=\u001b[0m\u001b[0maxis\u001b[0m\u001b[1;33m,\u001b[0m\u001b[1;33m\u001b[0m\u001b[1;33m\u001b[0m\u001b[0m\n",
      "\u001b[1;32m~\\anaconda3\\envs\\PythonData\\lib\\site-packages\\pandas\\core\\generic.py\u001b[0m in \u001b[0;36mdrop\u001b[1;34m(self, labels, axis, index, columns, level, inplace, errors)\u001b[0m\n\u001b[0;32m   4148\u001b[0m         \u001b[1;32mfor\u001b[0m \u001b[0maxis\u001b[0m\u001b[1;33m,\u001b[0m \u001b[0mlabels\u001b[0m \u001b[1;32min\u001b[0m \u001b[0maxes\u001b[0m\u001b[1;33m.\u001b[0m\u001b[0mitems\u001b[0m\u001b[1;33m(\u001b[0m\u001b[1;33m)\u001b[0m\u001b[1;33m:\u001b[0m\u001b[1;33m\u001b[0m\u001b[1;33m\u001b[0m\u001b[0m\n\u001b[0;32m   4149\u001b[0m             \u001b[1;32mif\u001b[0m \u001b[0mlabels\u001b[0m \u001b[1;32mis\u001b[0m \u001b[1;32mnot\u001b[0m \u001b[1;32mNone\u001b[0m\u001b[1;33m:\u001b[0m\u001b[1;33m\u001b[0m\u001b[1;33m\u001b[0m\u001b[0m\n\u001b[1;32m-> 4150\u001b[1;33m                 \u001b[0mobj\u001b[0m \u001b[1;33m=\u001b[0m \u001b[0mobj\u001b[0m\u001b[1;33m.\u001b[0m\u001b[0m_drop_axis\u001b[0m\u001b[1;33m(\u001b[0m\u001b[0mlabels\u001b[0m\u001b[1;33m,\u001b[0m \u001b[0maxis\u001b[0m\u001b[1;33m,\u001b[0m \u001b[0mlevel\u001b[0m\u001b[1;33m=\u001b[0m\u001b[0mlevel\u001b[0m\u001b[1;33m,\u001b[0m \u001b[0merrors\u001b[0m\u001b[1;33m=\u001b[0m\u001b[0merrors\u001b[0m\u001b[1;33m)\u001b[0m\u001b[1;33m\u001b[0m\u001b[1;33m\u001b[0m\u001b[0m\n\u001b[0m\u001b[0;32m   4151\u001b[0m \u001b[1;33m\u001b[0m\u001b[0m\n\u001b[0;32m   4152\u001b[0m         \u001b[1;32mif\u001b[0m \u001b[0minplace\u001b[0m\u001b[1;33m:\u001b[0m\u001b[1;33m\u001b[0m\u001b[1;33m\u001b[0m\u001b[0m\n",
      "\u001b[1;32m~\\anaconda3\\envs\\PythonData\\lib\\site-packages\\pandas\\core\\generic.py\u001b[0m in \u001b[0;36m_drop_axis\u001b[1;34m(self, labels, axis, level, errors)\u001b[0m\n\u001b[0;32m   4183\u001b[0m                 \u001b[0mnew_axis\u001b[0m \u001b[1;33m=\u001b[0m \u001b[0maxis\u001b[0m\u001b[1;33m.\u001b[0m\u001b[0mdrop\u001b[0m\u001b[1;33m(\u001b[0m\u001b[0mlabels\u001b[0m\u001b[1;33m,\u001b[0m \u001b[0mlevel\u001b[0m\u001b[1;33m=\u001b[0m\u001b[0mlevel\u001b[0m\u001b[1;33m,\u001b[0m \u001b[0merrors\u001b[0m\u001b[1;33m=\u001b[0m\u001b[0merrors\u001b[0m\u001b[1;33m)\u001b[0m\u001b[1;33m\u001b[0m\u001b[1;33m\u001b[0m\u001b[0m\n\u001b[0;32m   4184\u001b[0m             \u001b[1;32melse\u001b[0m\u001b[1;33m:\u001b[0m\u001b[1;33m\u001b[0m\u001b[1;33m\u001b[0m\u001b[0m\n\u001b[1;32m-> 4185\u001b[1;33m                 \u001b[0mnew_axis\u001b[0m \u001b[1;33m=\u001b[0m \u001b[0maxis\u001b[0m\u001b[1;33m.\u001b[0m\u001b[0mdrop\u001b[0m\u001b[1;33m(\u001b[0m\u001b[0mlabels\u001b[0m\u001b[1;33m,\u001b[0m \u001b[0merrors\u001b[0m\u001b[1;33m=\u001b[0m\u001b[0merrors\u001b[0m\u001b[1;33m)\u001b[0m\u001b[1;33m\u001b[0m\u001b[1;33m\u001b[0m\u001b[0m\n\u001b[0m\u001b[0;32m   4186\u001b[0m             \u001b[0mresult\u001b[0m \u001b[1;33m=\u001b[0m \u001b[0mself\u001b[0m\u001b[1;33m.\u001b[0m\u001b[0mreindex\u001b[0m\u001b[1;33m(\u001b[0m\u001b[1;33m**\u001b[0m\u001b[1;33m{\u001b[0m\u001b[0maxis_name\u001b[0m\u001b[1;33m:\u001b[0m \u001b[0mnew_axis\u001b[0m\u001b[1;33m}\u001b[0m\u001b[1;33m)\u001b[0m\u001b[1;33m\u001b[0m\u001b[1;33m\u001b[0m\u001b[0m\n\u001b[0;32m   4187\u001b[0m \u001b[1;33m\u001b[0m\u001b[0m\n",
      "\u001b[1;32m~\\anaconda3\\envs\\PythonData\\lib\\site-packages\\pandas\\core\\indexes\\base.py\u001b[0m in \u001b[0;36mdrop\u001b[1;34m(self, labels, errors)\u001b[0m\n\u001b[0;32m   6015\u001b[0m         \u001b[1;32mif\u001b[0m \u001b[0mmask\u001b[0m\u001b[1;33m.\u001b[0m\u001b[0many\u001b[0m\u001b[1;33m(\u001b[0m\u001b[1;33m)\u001b[0m\u001b[1;33m:\u001b[0m\u001b[1;33m\u001b[0m\u001b[1;33m\u001b[0m\u001b[0m\n\u001b[0;32m   6016\u001b[0m             \u001b[1;32mif\u001b[0m \u001b[0merrors\u001b[0m \u001b[1;33m!=\u001b[0m \u001b[1;34m\"ignore\"\u001b[0m\u001b[1;33m:\u001b[0m\u001b[1;33m\u001b[0m\u001b[1;33m\u001b[0m\u001b[0m\n\u001b[1;32m-> 6017\u001b[1;33m                 \u001b[1;32mraise\u001b[0m \u001b[0mKeyError\u001b[0m\u001b[1;33m(\u001b[0m\u001b[1;34mf\"{labels[mask]} not found in axis\"\u001b[0m\u001b[1;33m)\u001b[0m\u001b[1;33m\u001b[0m\u001b[1;33m\u001b[0m\u001b[0m\n\u001b[0m\u001b[0;32m   6018\u001b[0m             \u001b[0mindexer\u001b[0m \u001b[1;33m=\u001b[0m \u001b[0mindexer\u001b[0m\u001b[1;33m[\u001b[0m\u001b[1;33m~\u001b[0m\u001b[0mmask\u001b[0m\u001b[1;33m]\u001b[0m\u001b[1;33m\u001b[0m\u001b[1;33m\u001b[0m\u001b[0m\n\u001b[0;32m   6019\u001b[0m         \u001b[1;32mreturn\u001b[0m \u001b[0mself\u001b[0m\u001b[1;33m.\u001b[0m\u001b[0mdelete\u001b[0m\u001b[1;33m(\u001b[0m\u001b[0mindexer\u001b[0m\u001b[1;33m)\u001b[0m\u001b[1;33m\u001b[0m\u001b[1;33m\u001b[0m\u001b[0m\n",
      "\u001b[1;31mKeyError\u001b[0m: \"['Date'] not found in axis\""
     ]
    }
   ],
   "source": [
    "ta_df = ta_df.drop(columns=['Date'])\n",
    "ta_df.head()"
   ]
  },
  {
   "cell_type": "code",
   "execution_count": null,
   "id": "e8976b4d",
   "metadata": {},
   "outputs": [],
   "source": []
  }
 ],
 "metadata": {
  "kernelspec": {
   "display_name": "PythonData",
   "language": "python",
   "name": "pythondata"
  },
  "language_info": {
   "codemirror_mode": {
    "name": "ipython",
    "version": 3
   },
   "file_extension": ".py",
   "mimetype": "text/x-python",
   "name": "python",
   "nbconvert_exporter": "python",
   "pygments_lexer": "ipython3",
   "version": "3.9.7"
  }
 },
 "nbformat": 4,
 "nbformat_minor": 5
}
