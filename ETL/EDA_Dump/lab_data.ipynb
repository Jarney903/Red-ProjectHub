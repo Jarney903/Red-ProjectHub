{
 "cells": [
  {
   "cell_type": "code",
   "execution_count": 1,
   "id": "7b2c2e5c",
   "metadata": {},
   "outputs": [],
   "source": [
    "import pandas as pd\n",
    "import numpy as np"
   ]
  },
  {
   "cell_type": "code",
   "execution_count": 2,
   "id": "d7b19ddc",
   "metadata": {},
   "outputs": [
    {
     "data": {
      "text/html": [
       "<div>\n",
       "<style scoped>\n",
       "    .dataframe tbody tr th:only-of-type {\n",
       "        vertical-align: middle;\n",
       "    }\n",
       "\n",
       "    .dataframe tbody tr th {\n",
       "        vertical-align: top;\n",
       "    }\n",
       "\n",
       "    .dataframe thead th {\n",
       "        text-align: right;\n",
       "    }\n",
       "</style>\n",
       "<table border=\"1\" class=\"dataframe\">\n",
       "  <thead>\n",
       "    <tr style=\"text-align: right;\">\n",
       "      <th></th>\n",
       "      <th>Date</th>\n",
       "      <th>TA.OVH.RECYCLE.NC4.VOLPCT</th>\n",
       "    </tr>\n",
       "  </thead>\n",
       "  <tbody>\n",
       "    <tr>\n",
       "      <th>0</th>\n",
       "      <td>7/15/22 13:00</td>\n",
       "      <td>11.19999981</td>\n",
       "    </tr>\n",
       "    <tr>\n",
       "      <th>1</th>\n",
       "      <td>7/15/22 6:00</td>\n",
       "      <td>13.89999962</td>\n",
       "    </tr>\n",
       "    <tr>\n",
       "      <th>2</th>\n",
       "      <td>7/14/22 13:00</td>\n",
       "      <td>13.60000038</td>\n",
       "    </tr>\n",
       "    <tr>\n",
       "      <th>3</th>\n",
       "      <td>7/14/22 6:00</td>\n",
       "      <td>11</td>\n",
       "    </tr>\n",
       "    <tr>\n",
       "      <th>4</th>\n",
       "      <td>7/13/22 13:00</td>\n",
       "      <td>10.69999981</td>\n",
       "    </tr>\n",
       "    <tr>\n",
       "      <th>...</th>\n",
       "      <td>...</td>\n",
       "      <td>...</td>\n",
       "    </tr>\n",
       "    <tr>\n",
       "      <th>15584</th>\n",
       "      <td>1/6/13 6:00</td>\n",
       "      <td>18</td>\n",
       "    </tr>\n",
       "    <tr>\n",
       "      <th>15585</th>\n",
       "      <td>1/5/13 13:00</td>\n",
       "      <td>14.39999962</td>\n",
       "    </tr>\n",
       "    <tr>\n",
       "      <th>15586</th>\n",
       "      <td>1/5/13 6:00</td>\n",
       "      <td>10.19999981</td>\n",
       "    </tr>\n",
       "    <tr>\n",
       "      <th>15587</th>\n",
       "      <td>1/4/13 13:00</td>\n",
       "      <td>6.099999905</td>\n",
       "    </tr>\n",
       "    <tr>\n",
       "      <th>15588</th>\n",
       "      <td>1/4/13 6:00</td>\n",
       "      <td>4.900000095</td>\n",
       "    </tr>\n",
       "  </tbody>\n",
       "</table>\n",
       "<p>15589 rows × 2 columns</p>\n",
       "</div>"
      ],
      "text/plain": [
       "                Date TA.OVH.RECYCLE.NC4.VOLPCT\n",
       "0      7/15/22 13:00               11.19999981\n",
       "1       7/15/22 6:00               13.89999962\n",
       "2      7/14/22 13:00               13.60000038\n",
       "3       7/14/22 6:00                        11\n",
       "4      7/13/22 13:00               10.69999981\n",
       "...              ...                       ...\n",
       "15584    1/6/13 6:00                        18\n",
       "15585   1/5/13 13:00               14.39999962\n",
       "15586    1/5/13 6:00               10.19999981\n",
       "15587   1/4/13 13:00               6.099999905\n",
       "15588    1/4/13 6:00               4.900000095\n",
       "\n",
       "[15589 rows x 2 columns]"
      ]
     },
     "execution_count": 2,
     "metadata": {},
     "output_type": "execute_result"
    }
   ],
   "source": [
    "file = pd.read_csv(\"Resources/LAB_Data_RAW.csv\")\n",
    "lab_df = pd.DataFrame(file)\n",
    "lab_df"
   ]
  },
  {
   "cell_type": "code",
   "execution_count": 3,
   "id": "9ebc22d3",
   "metadata": {},
   "outputs": [
    {
     "data": {
      "text/plain": [
       "Date                         object\n",
       "TA.OVH.RECYCLE.NC4.VOLPCT    object\n",
       "dtype: object"
      ]
     },
     "execution_count": 3,
     "metadata": {},
     "output_type": "execute_result"
    }
   ],
   "source": [
    "lab_df.dtypes"
   ]
  },
  {
   "cell_type": "code",
   "execution_count": 4,
   "id": "3fa334b1",
   "metadata": {},
   "outputs": [],
   "source": [
    "lab_df.loc[lab_df['TA.OVH.RECYCLE.NC4.VOLPCT'] == \"I/O Timeout\"] = np.nan\n",
    "    # 6 timeout strings\n",
    "lab_df.loc[lab_df['TA.OVH.RECYCLE.NC4.VOLPCT'] == \"Error\"] = np.nan\n",
    "    # 28 error strings\n",
    "lab_df.loc[lab_df['TA.OVH.RECYCLE.NC4.VOLPCT'] == \"Bad\"] = np.nan\n",
    "    # 0 bad strings\n",
    "lab_df.loc[lab_df['TA.OVH.RECYCLE.NC4.VOLPCT'] == \"Bad Input\"] = np.nan\n",
    "    # 0 bad input strings"
   ]
  },
  {
   "cell_type": "code",
   "execution_count": 5,
   "id": "9263c5cd",
   "metadata": {},
   "outputs": [
    {
     "data": {
      "text/plain": [
       "Date                         34\n",
       "TA.OVH.RECYCLE.NC4.VOLPCT    34\n",
       "dtype: int64"
      ]
     },
     "execution_count": 5,
     "metadata": {},
     "output_type": "execute_result"
    }
   ],
   "source": [
    "lab_df.isnull().sum()"
   ]
  },
  {
   "cell_type": "code",
   "execution_count": 6,
   "id": "09a506b0",
   "metadata": {},
   "outputs": [
    {
     "data": {
      "text/html": [
       "<div>\n",
       "<style scoped>\n",
       "    .dataframe tbody tr th:only-of-type {\n",
       "        vertical-align: middle;\n",
       "    }\n",
       "\n",
       "    .dataframe tbody tr th {\n",
       "        vertical-align: top;\n",
       "    }\n",
       "\n",
       "    .dataframe thead th {\n",
       "        text-align: right;\n",
       "    }\n",
       "</style>\n",
       "<table border=\"1\" class=\"dataframe\">\n",
       "  <thead>\n",
       "    <tr style=\"text-align: right;\">\n",
       "      <th></th>\n",
       "      <th>Date</th>\n",
       "      <th>TA.OVH.RECYCLE.NC4.VOLPCT</th>\n",
       "    </tr>\n",
       "  </thead>\n",
       "  <tbody>\n",
       "    <tr>\n",
       "      <th>0</th>\n",
       "      <td>7/15/22 13:00</td>\n",
       "      <td>11.19999981</td>\n",
       "    </tr>\n",
       "    <tr>\n",
       "      <th>1</th>\n",
       "      <td>7/15/22 6:00</td>\n",
       "      <td>13.89999962</td>\n",
       "    </tr>\n",
       "    <tr>\n",
       "      <th>2</th>\n",
       "      <td>7/14/22 13:00</td>\n",
       "      <td>13.60000038</td>\n",
       "    </tr>\n",
       "    <tr>\n",
       "      <th>3</th>\n",
       "      <td>7/14/22 6:00</td>\n",
       "      <td>11</td>\n",
       "    </tr>\n",
       "    <tr>\n",
       "      <th>4</th>\n",
       "      <td>7/13/22 13:00</td>\n",
       "      <td>10.69999981</td>\n",
       "    </tr>\n",
       "    <tr>\n",
       "      <th>...</th>\n",
       "      <td>...</td>\n",
       "      <td>...</td>\n",
       "    </tr>\n",
       "    <tr>\n",
       "      <th>15584</th>\n",
       "      <td>1/6/13 6:00</td>\n",
       "      <td>18</td>\n",
       "    </tr>\n",
       "    <tr>\n",
       "      <th>15585</th>\n",
       "      <td>1/5/13 13:00</td>\n",
       "      <td>14.39999962</td>\n",
       "    </tr>\n",
       "    <tr>\n",
       "      <th>15586</th>\n",
       "      <td>1/5/13 6:00</td>\n",
       "      <td>10.19999981</td>\n",
       "    </tr>\n",
       "    <tr>\n",
       "      <th>15587</th>\n",
       "      <td>1/4/13 13:00</td>\n",
       "      <td>6.099999905</td>\n",
       "    </tr>\n",
       "    <tr>\n",
       "      <th>15588</th>\n",
       "      <td>1/4/13 6:00</td>\n",
       "      <td>4.900000095</td>\n",
       "    </tr>\n",
       "  </tbody>\n",
       "</table>\n",
       "<p>15555 rows × 2 columns</p>\n",
       "</div>"
      ],
      "text/plain": [
       "                Date TA.OVH.RECYCLE.NC4.VOLPCT\n",
       "0      7/15/22 13:00               11.19999981\n",
       "1       7/15/22 6:00               13.89999962\n",
       "2      7/14/22 13:00               13.60000038\n",
       "3       7/14/22 6:00                        11\n",
       "4      7/13/22 13:00               10.69999981\n",
       "...              ...                       ...\n",
       "15584    1/6/13 6:00                        18\n",
       "15585   1/5/13 13:00               14.39999962\n",
       "15586    1/5/13 6:00               10.19999981\n",
       "15587   1/4/13 13:00               6.099999905\n",
       "15588    1/4/13 6:00               4.900000095\n",
       "\n",
       "[15555 rows x 2 columns]"
      ]
     },
     "execution_count": 6,
     "metadata": {},
     "output_type": "execute_result"
    }
   ],
   "source": [
    "lab_df.dropna()"
   ]
  },
  {
   "cell_type": "code",
   "execution_count": 7,
   "id": "1eb4e2b0",
   "metadata": {},
   "outputs": [],
   "source": [
    "lab_df['TA.OVH.RECYCLE.NC4.VOLPCT'] = lab_df['TA.OVH.RECYCLE.NC4.VOLPCT'].astype(float)"
   ]
  },
  {
   "cell_type": "code",
   "execution_count": 8,
   "id": "7bc75872",
   "metadata": {},
   "outputs": [
    {
     "data": {
      "text/plain": [
       "Date                          object\n",
       "TA.OVH.RECYCLE.NC4.VOLPCT    float64\n",
       "dtype: object"
      ]
     },
     "execution_count": 8,
     "metadata": {},
     "output_type": "execute_result"
    }
   ],
   "source": [
    "lab_df.dtypes"
   ]
  },
  {
   "cell_type": "code",
   "execution_count": 9,
   "id": "30bbbb03",
   "metadata": {},
   "outputs": [
    {
     "data": {
      "text/html": [
       "<div>\n",
       "<style scoped>\n",
       "    .dataframe tbody tr th:only-of-type {\n",
       "        vertical-align: middle;\n",
       "    }\n",
       "\n",
       "    .dataframe tbody tr th {\n",
       "        vertical-align: top;\n",
       "    }\n",
       "\n",
       "    .dataframe thead th {\n",
       "        text-align: right;\n",
       "    }\n",
       "</style>\n",
       "<table border=\"1\" class=\"dataframe\">\n",
       "  <thead>\n",
       "    <tr style=\"text-align: right;\">\n",
       "      <th></th>\n",
       "      <th>TA.OVH.RECYCLE.NC4.VOLPCT</th>\n",
       "    </tr>\n",
       "  </thead>\n",
       "  <tbody>\n",
       "    <tr>\n",
       "      <th>count</th>\n",
       "      <td>15555.000000</td>\n",
       "    </tr>\n",
       "    <tr>\n",
       "      <th>mean</th>\n",
       "      <td>11.293631</td>\n",
       "    </tr>\n",
       "    <tr>\n",
       "      <th>std</th>\n",
       "      <td>8.909778</td>\n",
       "    </tr>\n",
       "    <tr>\n",
       "      <th>min</th>\n",
       "      <td>0.000000</td>\n",
       "    </tr>\n",
       "    <tr>\n",
       "      <th>25%</th>\n",
       "      <td>9.600000</td>\n",
       "    </tr>\n",
       "    <tr>\n",
       "      <th>50%</th>\n",
       "      <td>11.100000</td>\n",
       "    </tr>\n",
       "    <tr>\n",
       "      <th>75%</th>\n",
       "      <td>12.700000</td>\n",
       "    </tr>\n",
       "    <tr>\n",
       "      <th>max</th>\n",
       "      <td>1005.000000</td>\n",
       "    </tr>\n",
       "  </tbody>\n",
       "</table>\n",
       "</div>"
      ],
      "text/plain": [
       "       TA.OVH.RECYCLE.NC4.VOLPCT\n",
       "count               15555.000000\n",
       "mean                   11.293631\n",
       "std                     8.909778\n",
       "min                     0.000000\n",
       "25%                     9.600000\n",
       "50%                    11.100000\n",
       "75%                    12.700000\n",
       "max                  1005.000000"
      ]
     },
     "execution_count": 9,
     "metadata": {},
     "output_type": "execute_result"
    }
   ],
   "source": [
    "lab_df.describe()"
   ]
  },
  {
   "cell_type": "code",
   "execution_count": 10,
   "id": "1f5f80b1",
   "metadata": {},
   "outputs": [],
   "source": [
    "#lab_df.loc[lab_df['TA.OVH.RECYCLE.NC4.VOLPCT'] >=100] = np.nan"
   ]
  },
  {
   "cell_type": "code",
   "execution_count": 11,
   "id": "f1c3286d",
   "metadata": {},
   "outputs": [],
   "source": [
    "#lab_df.dropna()\n",
    "#lab_df.describe()"
   ]
  },
  {
   "cell_type": "code",
   "execution_count": 12,
   "id": "8a9cbaa8",
   "metadata": {},
   "outputs": [],
   "source": [
    "lab_df.to_csv('Resources/lab_clean.csv')"
   ]
  }
 ],
 "metadata": {
  "kernelspec": {
   "display_name": "PythonData",
   "language": "python",
   "name": "pythondata"
  },
  "language_info": {
   "codemirror_mode": {
    "name": "ipython",
    "version": 3
   },
   "file_extension": ".py",
   "mimetype": "text/x-python",
   "name": "python",
   "nbconvert_exporter": "python",
   "pygments_lexer": "ipython3",
   "version": "3.9.7"
  }
 },
 "nbformat": 4,
 "nbformat_minor": 5
}
