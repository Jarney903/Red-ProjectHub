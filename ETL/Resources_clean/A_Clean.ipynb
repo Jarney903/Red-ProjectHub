{
 "cells": [
  {
   "cell_type": "code",
   "execution_count": 66,
   "metadata": {},
   "outputs": [],
   "source": [
    "from pathlib import Path\n",
    "import pandas as pd\n",
    "import matplotlib.pyplot as plt\n",
    "import matplotlib.dates as mdates\n",
    "import numpy as np\n",
    "\n",
    "# Pull in lab_pass1.csv\n",
    "lab1 = Path('Original_CSV/lab_pass1.csv')\n",
    "lab_pass1 = pd.read_csv(lab1)\n",
    "\n",
    "# Pull in rx_pass1.csv\n",
    "rx1 = Path('Original_CSV/rx_pass1.csv')\n",
    "rx_pass1 = pd.read_csv(rx1)\n",
    "\n",
    "# Pull in ta_pass1.csv\n",
    "ta1 = Path('Original_CSV/ta_pass1.csv')\n",
    "ta_pass1 = pd.read_csv(ta1)\n",
    "\n",
    "# Pull in tb_pass1.csv\n",
    "tb1 = Path('Original_CSV/tb_pass1.csv')\n",
    "tb_pass1 = pd.read_csv(tb1)\n",
    "\n",
    "# Pull in tc_pass1.csv\n",
    "tc1 = Path('Original_CSV/tc_pass1.csv')\n",
    "tc_pass1 = pd.read_csv(tc1)\n",
    "\n",
    "\n",
    "\n"
   ]
  },
  {
   "cell_type": "code",
   "execution_count": 61,
   "metadata": {},
   "outputs": [
    {
     "name": "stdout",
     "output_type": "stream",
     "text": [
      "5342\n",
      "5329\n",
      "5329\n"
     ]
    }
   ],
   "source": [
    "# Clean lab data\n",
    "lab_pass1\n",
    "print(lab_pass1.shape[0])\n",
    "nan_value = float(\"NaN\")\n",
    "# Convert NaN values to empty string\n",
    "lab_pass1.replace(\"\", nan_value, inplace=True)\n",
    "lab_pass1.dropna(subset = [\"Date\"], inplace=True)\n",
    "print(lab_pass1.shape[0])\n",
    "# Remove duplicate dates\n",
    "lab_pass1.drop_duplicates(subset=['Date'])\n",
    "# Key (\"Date\")=(8/31/18 13:00)\n",
    "# Key (\"Date\")=(6/30/18 13:00)\n",
    "\n",
    "print(lab_pass1.shape[0])\n",
    "lab_pass1.head()\n",
    "\n",
    "# Export in new CSV\n",
    "lab_pass1.to_csv('lab_pass2.csv', index=False)"
   ]
  },
  {
   "cell_type": "code",
   "execution_count": 62,
   "metadata": {},
   "outputs": [
    {
     "name": "stdout",
     "output_type": "stream",
     "text": [
      "3984\n",
      "3984\n",
      "3984\n"
     ]
    }
   ],
   "source": [
    "# Clean rx data\n",
    "rx_pass1\n",
    "print(rx_pass1.shape[0])\n",
    "nan_value = float(\"NaN\")\n",
    "# Convert NaN values to empty string\n",
    "rx_pass1.replace(\"\", nan_value, inplace=True)\n",
    "rx_pass1.dropna(subset = [\"Date\"], inplace=True)\n",
    "print(rx_pass1.shape[0])\n",
    "# Remove duplicate dates\n",
    "rx_pass1.drop_duplicates(subset=['Date'])\n",
    "# Key (\"Date\")=(8/31/18 13:00)\n",
    "# Key (\"Date\")=(6/30/18 13:00) \n",
    "print(rx_pass1.shape[0])\n",
    "rx_pass1.head()\n",
    "\n",
    "# Export in new CSV\n",
    "rx_pass1.to_csv('rx_pass2.csv', index=False)"
   ]
  },
  {
   "cell_type": "code",
   "execution_count": 63,
   "metadata": {},
   "outputs": [
    {
     "name": "stdout",
     "output_type": "stream",
     "text": [
      "2546\n",
      "2546\n",
      "2546\n"
     ]
    }
   ],
   "source": [
    "# Clean ta data\n",
    "ta_pass1\n",
    "print(ta_pass1.shape[0])\n",
    "nan_value = float(\"NaN\")\n",
    "# Convert NaN values to empty string\n",
    "ta_pass1.replace(\"\", nan_value, inplace=True)\n",
    "ta_pass1.dropna(subset = [\"Date\"], inplace=True)\n",
    "print(ta_pass1.shape[0])\n",
    "# Remove duplicate dates\n",
    "ta_pass1.drop_duplicates(subset=['Date'])\n",
    "# Key (\"Date\")=(8/31/18 13:00)\n",
    "# Key (\"Date\")=(6/30/18 13:00) \n",
    "print(ta_pass1.shape[0])\n",
    "ta_pass1.head()\n",
    "\n",
    "# Export in new CSV\n",
    "ta_pass1.to_csv('ta_pass2.csv', index=False)"
   ]
  },
  {
   "cell_type": "code",
   "execution_count": 64,
   "metadata": {},
   "outputs": [
    {
     "name": "stdout",
     "output_type": "stream",
     "text": [
      "1416\n",
      "1416\n",
      "1416\n"
     ]
    }
   ],
   "source": [
    "# Clean tb data\n",
    "tb_pass1\n",
    "print(tb_pass1.shape[0])\n",
    "nan_value = float(\"NaN\")\n",
    "# Convert NaN values to empty string\n",
    "tb_pass1.replace(\"\", nan_value, inplace=True)\n",
    "tb_pass1.dropna(subset = [\"Date\"], inplace=True)\n",
    "print(tb_pass1.shape[0])\n",
    "# Remove duplicate dates\n",
    "tb_pass1.drop_duplicates(subset=['Date'])\n",
    "\n",
    "print(tb_pass1.shape[0])\n",
    "tb_pass1.head()\n",
    "\n",
    "# Export in new CSV\n",
    "tb_pass1.to_csv('tb_pass2.csv', index=False)"
   ]
  },
  {
   "cell_type": "code",
   "execution_count": 68,
   "metadata": {},
   "outputs": [
    {
     "name": "stdout",
     "output_type": "stream",
     "text": [
      "5260\n",
      "5260\n",
      "5260\n"
     ]
    }
   ],
   "source": [
    "# Clean tc data\n",
    "tc_pass1\n",
    "print(tc_pass1.shape[0])\n",
    "nan_value = float(\"NaN\")\n",
    "# Convert NaN values to empty string\n",
    "tc_pass1.replace(\"\", nan_value, inplace=True)\n",
    "tc_pass1.dropna(subset = [\"Date\"], inplace=True)\n",
    "print(tc_pass1.shape[0])\n",
    "# Remove duplicate dates\n",
    "tc_pass1.drop_duplicates(subset=['Date'])\n",
    "# Key (\"Date\")=(8/31/18 13:00)\n",
    "# Key (\"Date\")=(6/30/18 13:00)\n",
    "print(tc_pass1.shape[0])\n",
    "tc_pass1.head()\n",
    "\n",
    "# Export in new CSV\n",
    "tc_pass1.to_csv('tc_pass2.csv', index=False)"
   ]
  }
 ],
 "metadata": {
  "kernelspec": {
   "display_name": "Python 3.9.12 ('mlenv')",
   "language": "python",
   "name": "python3"
  },
  "language_info": {
   "codemirror_mode": {
    "name": "ipython",
    "version": 3
   },
   "file_extension": ".py",
   "mimetype": "text/x-python",
   "name": "python",
   "nbconvert_exporter": "python",
   "pygments_lexer": "ipython3",
   "version": "3.9.12"
  },
  "orig_nbformat": 4,
  "vscode": {
   "interpreter": {
    "hash": "c8191c4c8a0add40796db1a2e53eb7faa9fa8004fba0074db0b5706dc48e521f"
   }
  }
 },
 "nbformat": 4,
 "nbformat_minor": 2
}
