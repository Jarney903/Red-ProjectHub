{
 "cells": [
  {
   "cell_type": "code",
   "execution_count": 22,
   "id": "fc3e58a5",
   "metadata": {},
   "outputs": [],
   "source": [
    "# imports\n",
    "import pandas as pd\n",
    "import numpy as np\n",
    "from sklearn.datasets import make_classification, make_regression\n",
    "from sklearn.linear_model import LinearRegression, LogisticRegression\n",
    "from matplotlib import pyplot\n",
    "from sklearn.tree import DecisionTreeRegressor, DecisionTreeClassifier\n",
    "from sklearn.ensemble import RandomForestRegressor, RandomForestClassifier"
   ]
  },
  {
   "cell_type": "markdown",
   "id": "1d0b63ba",
   "metadata": {},
   "source": [
    "Data is still not fully cleaned, outliers are not accounted for yet, this is more or less a test"
   ]
  },
  {
   "cell_type": "markdown",
   "id": "c6d975ba",
   "metadata": {},
   "source": [
    "https://machinelearningmastery.com/calculate-feature-importance-with-python/"
   ]
  },
  {
   "cell_type": "code",
   "execution_count": 23,
   "id": "cf2cda28",
   "metadata": {},
   "outputs": [
    {
     "data": {
      "text/html": [
       "<div>\n",
       "<style scoped>\n",
       "    .dataframe tbody tr th:only-of-type {\n",
       "        vertical-align: middle;\n",
       "    }\n",
       "\n",
       "    .dataframe tbody tr th {\n",
       "        vertical-align: top;\n",
       "    }\n",
       "\n",
       "    .dataframe thead th {\n",
       "        text-align: right;\n",
       "    }\n",
       "</style>\n",
       "<table border=\"1\" class=\"dataframe\">\n",
       "  <thead>\n",
       "    <tr style=\"text-align: right;\">\n",
       "      <th></th>\n",
       "      <th>Time</th>\n",
       "      <th>TA.Charge.BPD</th>\n",
       "      <th>TA.OH.PSIG</th>\n",
       "      <th>TA.Tray4.F</th>\n",
       "      <th>TA.OH.F</th>\n",
       "      <th>TA.RECV.PCT</th>\n",
       "      <th>TA.RECV.PSIG</th>\n",
       "      <th>TA.REFLUX.BPD</th>\n",
       "      <th>TA.RECYCLE.TO.CONTACT.BPD</th>\n",
       "      <th>TA.RECYCLE.TO.CONTACT.F</th>\n",
       "      <th>TA.TRAY39.F</th>\n",
       "      <th>TA.TRAY45.F</th>\n",
       "      <th>TA.DP.PSIG</th>\n",
       "      <th>TA.BTM.PSIG</th>\n",
       "      <th>TA.BTM.LEVEL.PCT</th>\n",
       "      <th>TA.BTM.REBOIL.OUT.F</th>\n",
       "      <th>TA.TOP.REBOIL.OUT.F</th>\n",
       "      <th>TA.OVH.RECYCLE.NC4.VOLPCT</th>\n",
       "    </tr>\n",
       "  </thead>\n",
       "  <tbody>\n",
       "    <tr>\n",
       "      <th>0</th>\n",
       "      <td>2022-07-15 13:00:00</td>\n",
       "      <td>10731.7002</td>\n",
       "      <td>99.301529</td>\n",
       "      <td>134.690353</td>\n",
       "      <td>133.14209</td>\n",
       "      <td>1.432773</td>\n",
       "      <td>100.622315</td>\n",
       "      <td>5919.916992</td>\n",
       "      <td>6399.555664</td>\n",
       "      <td>97.036232</td>\n",
       "      <td>160.828659</td>\n",
       "      <td>177.024338</td>\n",
       "      <td>0.669861</td>\n",
       "      <td>98.631668</td>\n",
       "      <td>74.778496</td>\n",
       "      <td>315.351349</td>\n",
       "      <td>188.916534</td>\n",
       "      <td>11.2</td>\n",
       "    </tr>\n",
       "  </tbody>\n",
       "</table>\n",
       "</div>"
      ],
      "text/plain": [
       "                  Time  TA.Charge.BPD  TA.OH.PSIG  TA.Tray4.F    TA.OH.F  \\\n",
       "0  2022-07-15 13:00:00     10731.7002   99.301529  134.690353  133.14209   \n",
       "\n",
       "   TA.RECV.PCT  TA.RECV.PSIG  TA.REFLUX.BPD  TA.RECYCLE.TO.CONTACT.BPD  \\\n",
       "0     1.432773    100.622315    5919.916992                6399.555664   \n",
       "\n",
       "   TA.RECYCLE.TO.CONTACT.F  TA.TRAY39.F  TA.TRAY45.F  TA.DP.PSIG  TA.BTM.PSIG  \\\n",
       "0                97.036232   160.828659   177.024338    0.669861    98.631668   \n",
       "\n",
       "   TA.BTM.LEVEL.PCT  TA.BTM.REBOIL.OUT.F  TA.TOP.REBOIL.OUT.F  \\\n",
       "0         74.778496           315.351349           188.916534   \n",
       "\n",
       "   TA.OVH.RECYCLE.NC4.VOLPCT  \n",
       "0                       11.2  "
      ]
     },
     "execution_count": 23,
     "metadata": {},
     "output_type": "execute_result"
    }
   ],
   "source": [
    "# load in data\n",
    "\n",
    "file = pd.read_csv(\"ETL/Resources/ta_pass_03-Copy1.csv\", index_col=[0])\n",
    "\n",
    "tower_a = pd.DataFrame(file)\n",
    "tower_a.head(1)"
   ]
  },
  {
   "cell_type": "code",
   "execution_count": 24,
   "id": "05837ef3",
   "metadata": {},
   "outputs": [
    {
     "data": {
      "text/plain": [
       "TA.Charge.BPD                float64\n",
       "TA.OH.PSIG                   float64\n",
       "TA.Tray4.F                   float64\n",
       "TA.OH.F                      float64\n",
       "TA.RECV.PCT                  float64\n",
       "TA.RECV.PSIG                 float64\n",
       "TA.REFLUX.BPD                float64\n",
       "TA.RECYCLE.TO.CONTACT.BPD    float64\n",
       "TA.RECYCLE.TO.CONTACT.F      float64\n",
       "TA.TRAY39.F                  float64\n",
       "TA.TRAY45.F                  float64\n",
       "TA.DP.PSIG                   float64\n",
       "TA.BTM.PSIG                  float64\n",
       "TA.BTM.LEVEL.PCT             float64\n",
       "TA.BTM.REBOIL.OUT.F          float64\n",
       "TA.TOP.REBOIL.OUT.F          float64\n",
       "TA.OVH.RECYCLE.NC4.VOLPCT    float64\n",
       "dtype: object"
      ]
     },
     "execution_count": 24,
     "metadata": {},
     "output_type": "execute_result"
    }
   ],
   "source": [
    "tower_a = tower_a.drop(columns=['Time'])\n",
    "tower_a.dtypes"
   ]
  },
  {
   "cell_type": "code",
   "execution_count": 25,
   "id": "c0a30075",
   "metadata": {},
   "outputs": [],
   "source": [
    "# isolating features for non-classification tests\n",
    "X = tower_a.drop(columns=['TA.OVH.RECYCLE.NC4.VOLPCT'])\n",
    "y = tower_a['TA.OVH.RECYCLE.NC4.VOLPCT']"
   ]
  },
  {
   "cell_type": "markdown",
   "id": "3a3c54b9",
   "metadata": {},
   "source": [
    "According to [https://christophm.github.io/interpretable-ml-book/feature-importance.html] he suggests for feature importance calculations, that we should use the entire dataset. Will also explore SHAP feature importance, later and compare? "
   ]
  },
  {
   "cell_type": "markdown",
   "id": "9a08f6c9",
   "metadata": {},
   "source": [
    "\"Permutation importance does not reflect to the intrinsic predictive value of a feature by itself but how important this feature is for a particular model.\"\n",
    "https://scikit-learn.org/stable/modules/permutation_importance.html#:~:text=Permutation%20importance%20does%20not%20reflect,estimators%20for%20a%20given%20dataset."
   ]
  },
  {
   "cell_type": "code",
   "execution_count": 26,
   "id": "5f79d746",
   "metadata": {},
   "outputs": [
    {
     "name": "stdout",
     "output_type": "stream",
     "text": [
      "(4437, 16)\n",
      "(4437,)\n"
     ]
    }
   ],
   "source": [
    "print(X.shape)\n",
    "print(y.shape)"
   ]
  },
  {
   "cell_type": "code",
   "execution_count": 27,
   "id": "c87fd29d",
   "metadata": {},
   "outputs": [
    {
     "data": {
      "text/html": [
       "<div>\n",
       "<style scoped>\n",
       "    .dataframe tbody tr th:only-of-type {\n",
       "        vertical-align: middle;\n",
       "    }\n",
       "\n",
       "    .dataframe tbody tr th {\n",
       "        vertical-align: top;\n",
       "    }\n",
       "\n",
       "    .dataframe thead th {\n",
       "        text-align: right;\n",
       "    }\n",
       "</style>\n",
       "<table border=\"1\" class=\"dataframe\">\n",
       "  <thead>\n",
       "    <tr style=\"text-align: right;\">\n",
       "      <th></th>\n",
       "      <th>TA.Charge.BPD</th>\n",
       "      <th>TA.OH.PSIG</th>\n",
       "      <th>TA.Tray4.F</th>\n",
       "      <th>TA.OH.F</th>\n",
       "      <th>TA.RECV.PCT</th>\n",
       "      <th>TA.RECV.PSIG</th>\n",
       "      <th>TA.REFLUX.BPD</th>\n",
       "      <th>TA.RECYCLE.TO.CONTACT.BPD</th>\n",
       "      <th>TA.RECYCLE.TO.CONTACT.F</th>\n",
       "      <th>TA.TRAY39.F</th>\n",
       "      <th>TA.TRAY45.F</th>\n",
       "      <th>TA.DP.PSIG</th>\n",
       "      <th>TA.BTM.PSIG</th>\n",
       "      <th>TA.BTM.LEVEL.PCT</th>\n",
       "      <th>TA.BTM.REBOIL.OUT.F</th>\n",
       "      <th>TA.TOP.REBOIL.OUT.F</th>\n",
       "      <th>TA.OVH.RECYCLE.NC4.VOLPCT</th>\n",
       "      <th>Class</th>\n",
       "    </tr>\n",
       "  </thead>\n",
       "  <tbody>\n",
       "    <tr>\n",
       "      <th>0</th>\n",
       "      <td>10731.7002</td>\n",
       "      <td>99.301529</td>\n",
       "      <td>134.690353</td>\n",
       "      <td>133.14209</td>\n",
       "      <td>1.432773</td>\n",
       "      <td>100.622315</td>\n",
       "      <td>5919.916992</td>\n",
       "      <td>6399.555664</td>\n",
       "      <td>97.036232</td>\n",
       "      <td>160.828659</td>\n",
       "      <td>177.024338</td>\n",
       "      <td>0.669861</td>\n",
       "      <td>98.631668</td>\n",
       "      <td>74.778496</td>\n",
       "      <td>315.351349</td>\n",
       "      <td>188.916534</td>\n",
       "      <td>11.2</td>\n",
       "      <td>1</td>\n",
       "    </tr>\n",
       "  </tbody>\n",
       "</table>\n",
       "</div>"
      ],
      "text/plain": [
       "   TA.Charge.BPD  TA.OH.PSIG  TA.Tray4.F    TA.OH.F  TA.RECV.PCT  \\\n",
       "0     10731.7002   99.301529  134.690353  133.14209     1.432773   \n",
       "\n",
       "   TA.RECV.PSIG  TA.REFLUX.BPD  TA.RECYCLE.TO.CONTACT.BPD  \\\n",
       "0    100.622315    5919.916992                6399.555664   \n",
       "\n",
       "   TA.RECYCLE.TO.CONTACT.F  TA.TRAY39.F  TA.TRAY45.F  TA.DP.PSIG  TA.BTM.PSIG  \\\n",
       "0                97.036232   160.828659   177.024338    0.669861    98.631668   \n",
       "\n",
       "   TA.BTM.LEVEL.PCT  TA.BTM.REBOIL.OUT.F  TA.TOP.REBOIL.OUT.F  \\\n",
       "0         74.778496           315.351349           188.916534   \n",
       "\n",
       "   TA.OVH.RECYCLE.NC4.VOLPCT  Class  \n",
       "0                       11.2      1  "
      ]
     },
     "execution_count": 27,
     "metadata": {},
     "output_type": "execute_result"
    }
   ],
   "source": [
    "# binary dataset (class feature)\n",
    "file2 = pd.read_csv(\"Resources/class_ta.csv\", index_col=[0])\n",
    "\n",
    "ta_class = pd.DataFrame(file2)\n",
    "ta_class.head(1)"
   ]
  },
  {
   "cell_type": "code",
   "execution_count": 28,
   "id": "79faef70",
   "metadata": {},
   "outputs": [
    {
     "data": {
      "text/plain": [
       "TA.Charge.BPD                9\n",
       "TA.OH.PSIG                   9\n",
       "TA.Tray4.F                   9\n",
       "TA.OH.F                      9\n",
       "TA.RECV.PCT                  9\n",
       "TA.RECV.PSIG                 9\n",
       "TA.REFLUX.BPD                9\n",
       "TA.RECYCLE.TO.CONTACT.BPD    9\n",
       "TA.RECYCLE.TO.CONTACT.F      9\n",
       "TA.TRAY39.F                  9\n",
       "TA.TRAY45.F                  9\n",
       "TA.DP.PSIG                   9\n",
       "TA.BTM.PSIG                  9\n",
       "TA.BTM.LEVEL.PCT             9\n",
       "TA.BTM.REBOIL.OUT.F          9\n",
       "TA.TOP.REBOIL.OUT.F          9\n",
       "TA.OVH.RECYCLE.NC4.VOLPCT    9\n",
       "Class                        0\n",
       "dtype: int64"
      ]
     },
     "execution_count": 28,
     "metadata": {},
     "output_type": "execute_result"
    }
   ],
   "source": [
    "ta_class.isnull().sum()"
   ]
  },
  {
   "cell_type": "code",
   "execution_count": 29,
   "id": "cfcc70ea",
   "metadata": {},
   "outputs": [],
   "source": [
    "ta_class = ta_class.dropna()"
   ]
  },
  {
   "cell_type": "code",
   "execution_count": 30,
   "id": "390fb9ac",
   "metadata": {},
   "outputs": [
    {
     "name": "stdout",
     "output_type": "stream",
     "text": [
      "(4428, 16)\n"
     ]
    }
   ],
   "source": [
    "X2 = ta_class.drop(columns=['TA.OVH.RECYCLE.NC4.VOLPCT', 'Class'])\n",
    "\n",
    "y2 = ta_class['Class']\n",
    "\n",
    "print(X2.shape)"
   ]
  },
  {
   "cell_type": "markdown",
   "id": "49ef15c6",
   "metadata": {},
   "source": [
    "# Linear Regression Feature Importance"
   ]
  },
  {
   "cell_type": "code",
   "execution_count": 31,
   "id": "3e75bf6d",
   "metadata": {},
   "outputs": [
    {
     "name": "stdout",
     "output_type": "stream",
     "text": [
      "Model Coefficients\n"
     ]
    },
    {
     "data": {
      "text/plain": [
       "[(1.7281791514366054, 'TA.Tray4.F'),\n",
       " (0.26552201755274496, 'TA.DP.PSIG'),\n",
       " (0.22303039320242896, 'TA.OH.PSIG'),\n",
       " (0.22256897100065515, 'TA.BTM.PSIG'),\n",
       " (0.18201153992826344, 'TA.TRAY39.F'),\n",
       " (0.01475904646707918, 'TA.RECYCLE.TO.CONTACT.F'),\n",
       " (0.0009238070130586085, 'TA.RECYCLE.TO.CONTACT.BPD'),\n",
       " (-1.607958852301028e-05, 'TA.REFLUX.BPD'),\n",
       " (-0.00046661409853200706, 'TA.Charge.BPD'),\n",
       " (-0.009469277091112, 'TA.RECV.PCT'),\n",
       " (-0.016825847560410397, 'TA.TRAY45.F'),\n",
       " (-0.043243938731399784, 'TA.TOP.REBOIL.OUT.F'),\n",
       " (-0.04768662540677995, 'TA.BTM.LEVEL.PCT'),\n",
       " (-0.04922600399001887, 'TA.BTM.REBOIL.OUT.F'),\n",
       " (-0.8535502229413915, 'TA.OH.F'),\n",
       " (-1.0621679922674163, 'TA.RECV.PSIG')]"
      ]
     },
     "execution_count": 31,
     "metadata": {},
     "output_type": "execute_result"
    }
   ],
   "source": [
    "# linear regression feature importance\n",
    "\n",
    "\n",
    "# define the model\n",
    "model = LinearRegression()\n",
    "# fit the model\n",
    "model.fit(X, y)\n",
    "# get importance\n",
    "importance = model.coef_\n",
    "# summarize feature importance\n",
    "#for i,v in enumerate(importance):\n",
    "\t#print('Feature: %0d, Score: %.5f' % (i,v))\n",
    "# plot feature importance\n",
    "#pyplot.bar([x for x in range(len(importance))], importance)\n",
    "#pyplot.show()\n",
    "\n",
    "print(\"Model Coefficients\")\n",
    "sorted(zip(model.coef_, X.columns), reverse=True)"
   ]
  },
  {
   "cell_type": "markdown",
   "id": "f0687a4e",
   "metadata": {},
   "source": [
    "# Logistic Regression Feature Importance"
   ]
  },
  {
   "cell_type": "code",
   "execution_count": 32,
   "id": "a520a277",
   "metadata": {},
   "outputs": [
    {
     "name": "stdout",
     "output_type": "stream",
     "text": [
      "Model Coefficients\n"
     ]
    },
    {
     "name": "stderr",
     "output_type": "stream",
     "text": [
      "C:\\Users\\anna\\anaconda3\\envs\\mlenv\\lib\\site-packages\\sklearn\\linear_model\\_logistic.py:818: ConvergenceWarning: lbfgs failed to converge (status=1):\n",
      "STOP: TOTAL NO. of ITERATIONS REACHED LIMIT.\n",
      "\n",
      "Increase the number of iterations (max_iter) or scale the data as shown in:\n",
      "    https://scikit-learn.org/stable/modules/preprocessing.html\n",
      "Please also refer to the documentation for alternative solver options:\n",
      "    https://scikit-learn.org/stable/modules/linear_model.html#logistic-regression\n",
      "  extra_warning_msg=_LOGISTIC_SOLVER_CONVERGENCE_MSG,\n"
     ]
    },
    {
     "data": {
      "text/plain": [
       "[(0.15800298599189566, 'TA.TRAY39.F'),\n",
       " (0.05676802755277805, 'TA.Tray4.F'),\n",
       " (0.05257733675732805, 'TA.RECV.PCT'),\n",
       " (0.04582449248404191, 'TA.OH.F'),\n",
       " (0.028662575851425925, 'TA.TRAY45.F'),\n",
       " (0.008994652888748369, 'TA.RECYCLE.TO.CONTACT.F'),\n",
       " (1.552749784968576e-05, 'TA.Charge.BPD'),\n",
       " (-7.625524909473064e-05, 'TA.REFLUX.BPD'),\n",
       " (-0.0001563701382886123, 'TA.RECYCLE.TO.CONTACT.BPD'),\n",
       " (-0.01799993024499323, 'TA.DP.PSIG'),\n",
       " (-0.02202634122894336, 'TA.BTM.PSIG'),\n",
       " (-0.03295943523551639, 'TA.TOP.REBOIL.OUT.F'),\n",
       " (-0.03559934699853702, 'TA.BTM.LEVEL.PCT'),\n",
       " (-0.03940941798558975, 'TA.RECV.PSIG'),\n",
       " (-0.058240881059299164, 'TA.OH.PSIG'),\n",
       " (-0.08087856476555538, 'TA.BTM.REBOIL.OUT.F')]"
      ]
     },
     "execution_count": 32,
     "metadata": {},
     "output_type": "execute_result"
    }
   ],
   "source": [
    "# logistic regression for feature importance\n",
    "\n",
    "# study what model coefficients are\n",
    "\n",
    "# define the model\n",
    "model = LogisticRegression()\n",
    "\n",
    "# fit the model\n",
    "model.fit(X2, y2)\n",
    "\n",
    "# get importance\n",
    "importance = model.coef_[0]\n",
    "\n",
    "# summarize feature importance\n",
    "#for i,v in enumerate(importance):\n",
    "\t#print('Feature: %0d, Score: %.5f' % (i,v))\n",
    "    \n",
    "# plot feature importance\n",
    "#pyplot.bar([x for x in range(len(importance))], importance)\n",
    "#pyplot.show()\n",
    "\n",
    "print(\"Model Coefficients\")\n",
    "sorted(zip(importance, X2.columns), reverse=True)"
   ]
  },
  {
   "cell_type": "markdown",
   "id": "05e80c18",
   "metadata": {},
   "source": [
    "# Decision Tree Feature Importance"
   ]
  },
  {
   "cell_type": "markdown",
   "id": "eedb96e6",
   "metadata": {},
   "source": [
    "### CART Regression Feature Importance"
   ]
  },
  {
   "cell_type": "code",
   "execution_count": 33,
   "id": "0410da63",
   "metadata": {},
   "outputs": [
    {
     "name": "stdout",
     "output_type": "stream",
     "text": [
      "Feature Importances\n"
     ]
    },
    {
     "data": {
      "text/plain": [
       "[(0.8813912822099175, 'TA.DP.PSIG'),\n",
       " (0.06126348027870464, 'TA.TRAY39.F'),\n",
       " (0.009776050843578065, 'TA.Tray4.F'),\n",
       " (0.008221301627670872, 'TA.BTM.REBOIL.OUT.F'),\n",
       " (0.007000234666985488, 'TA.BTM.PSIG'),\n",
       " (0.004970545541001911, 'TA.RECV.PSIG'),\n",
       " (0.00490209383948882, 'TA.TRAY45.F'),\n",
       " (0.004290602263493529, 'TA.TOP.REBOIL.OUT.F'),\n",
       " (0.0033766920887069152, 'TA.OH.PSIG'),\n",
       " (0.0031708099448815555, 'TA.BTM.LEVEL.PCT'),\n",
       " (0.0028088622276067577, 'TA.OH.F'),\n",
       " (0.0020929319040645725, 'TA.Charge.BPD'),\n",
       " (0.0020365453689795573, 'TA.RECYCLE.TO.CONTACT.BPD'),\n",
       " (0.0020006860955275123, 'TA.REFLUX.BPD'),\n",
       " (0.001578696773180737, 'TA.RECV.PCT'),\n",
       " (0.0011191843262116558, 'TA.RECYCLE.TO.CONTACT.F')]"
      ]
     },
     "execution_count": 33,
     "metadata": {},
     "output_type": "execute_result"
    }
   ],
   "source": [
    "# decision tree for feature importance on a regression problem\n",
    "\n",
    "\n",
    "# define the model\n",
    "model = DecisionTreeRegressor()\n",
    "# fit the model\n",
    "model.fit(X, y)\n",
    "# get importance\n",
    "importance = model.feature_importances_\n",
    "# summarize feature importance\n",
    "#for i,v in enumerate(importance):\n",
    "\t#print('Feature: %0d, Score: %.5f' % (i,v))\n",
    "# plot feature importance\n",
    "#pyplot.bar([x for x in range(len(importance))], importance)\n",
    "#pyplot.show()\n",
    "\n",
    "print(\"Feature Importances\")\n",
    "sorted(zip(model.feature_importances_, X.columns), reverse=True)"
   ]
  },
  {
   "cell_type": "markdown",
   "id": "e519d75e",
   "metadata": {},
   "source": [
    "### CART Classification Feature Importance"
   ]
  },
  {
   "cell_type": "code",
   "execution_count": 34,
   "id": "dabbd71c",
   "metadata": {},
   "outputs": [
    {
     "name": "stdout",
     "output_type": "stream",
     "text": [
      "Feature Importances\n"
     ]
    },
    {
     "data": {
      "text/plain": [
       "[(0.17686023048714308, 'TA.TRAY39.F'),\n",
       " (0.14046803376079195, 'TA.OH.PSIG'),\n",
       " (0.09657401665347054, 'TA.Tray4.F'),\n",
       " (0.07717472612145151, 'TA.RECV.PSIG'),\n",
       " (0.07294323313943935, 'TA.OH.F'),\n",
       " (0.07206278916691986, 'TA.BTM.LEVEL.PCT'),\n",
       " (0.05717569717807902, 'TA.TRAY45.F'),\n",
       " (0.04274889941631263, 'TA.BTM.REBOIL.OUT.F'),\n",
       " (0.04046392576240117, 'TA.TOP.REBOIL.OUT.F'),\n",
       " (0.038627112753621407, 'TA.Charge.BPD'),\n",
       " (0.03818264957411335, 'TA.RECYCLE.TO.CONTACT.BPD'),\n",
       " (0.03518900842444098, 'TA.REFLUX.BPD'),\n",
       " (0.03495774232762905, 'TA.BTM.PSIG'),\n",
       " (0.03400112992822912, 'TA.RECYCLE.TO.CONTACT.F'),\n",
       " (0.02210629464244931, 'TA.DP.PSIG'),\n",
       " (0.020464510663507546, 'TA.RECV.PCT')]"
      ]
     },
     "execution_count": 34,
     "metadata": {},
     "output_type": "execute_result"
    }
   ],
   "source": [
    "# decision tree for feature importance on a classification problem\n",
    "\n",
    "\n",
    "# define the model\n",
    "model = DecisionTreeClassifier()\n",
    "\n",
    "# fit the model\n",
    "model.fit(X2, y2)\n",
    "\n",
    "# get importance\n",
    "importance = model.feature_importances_\n",
    "\n",
    "# summarize feature importance\n",
    "#for i,v in enumerate(importance):\n",
    "\t#print('Feature: %0d, Score: %.5f' % (i,v))\n",
    "    \n",
    "# plot feature importance\n",
    "#pyplot.bar([x for x in range(len(importance))], importance)\n",
    "#pyplot.show()\n",
    "\n",
    "print(\"Feature Importances\")\n",
    "sorted(zip(importance, X2.columns), reverse=True)"
   ]
  },
  {
   "cell_type": "markdown",
   "id": "15982142",
   "metadata": {},
   "source": [
    "# Random Forest Feature Importance"
   ]
  },
  {
   "cell_type": "markdown",
   "id": "2aa22f6a",
   "metadata": {},
   "source": [
    "### Random Forest Regression Feature Importance"
   ]
  },
  {
   "cell_type": "code",
   "execution_count": 35,
   "id": "08963b8d",
   "metadata": {},
   "outputs": [
    {
     "name": "stdout",
     "output_type": "stream",
     "text": [
      "Feature Importances\n"
     ]
    },
    {
     "data": {
      "text/plain": [
       "[(0.3382051945950227, 'TA.DP.PSIG'),\n",
       " (0.21375331447130372, 'TA.TRAY39.F'),\n",
       " (0.08408480970229422, 'TA.Tray4.F'),\n",
       " (0.05171263016899116, 'TA.BTM.REBOIL.OUT.F'),\n",
       " (0.0378969945563471, 'TA.TRAY45.F'),\n",
       " (0.0353790455638369, 'TA.BTM.PSIG'),\n",
       " (0.034317377404745684, 'TA.REFLUX.BPD'),\n",
       " (0.03409375615699777, 'TA.OH.PSIG'),\n",
       " (0.029062147939871455, 'TA.RECV.PSIG'),\n",
       " (0.027701344240409046, 'TA.OH.F'),\n",
       " (0.02357482819509314, 'TA.BTM.LEVEL.PCT'),\n",
       " (0.02261312997803116, 'TA.RECYCLE.TO.CONTACT.BPD'),\n",
       " (0.02218739094084265, 'TA.Charge.BPD'),\n",
       " (0.016227499563909734, 'TA.RECYCLE.TO.CONTACT.F'),\n",
       " (0.015358145438593958, 'TA.RECV.PCT'),\n",
       " (0.013832391083709653, 'TA.TOP.REBOIL.OUT.F')]"
      ]
     },
     "execution_count": 35,
     "metadata": {},
     "output_type": "execute_result"
    }
   ],
   "source": [
    "# random forest for feature importance on a regression problem\n",
    "\n",
    "\n",
    "# define the model\n",
    "model = RandomForestRegressor()\n",
    "\n",
    "# fit the model\n",
    "model.fit(X, y)\n",
    "\n",
    "# get importance\n",
    "importance = model.feature_importances_\n",
    "\n",
    "# summarize feature importance\n",
    "#for i,v in enumerate(importance):\n",
    "\t#print('Feature: %0d, Score: %.5f' % (i,v))\n",
    "    \n",
    "# plot feature importance\n",
    "#pyplot.bar([x for x in range(len(importance))], importance)\n",
    "#pyplot.show()\n",
    "\n",
    "print(\"Feature Importances\")\n",
    "sorted(zip(model.feature_importances_, X.columns), reverse=True)"
   ]
  },
  {
   "cell_type": "markdown",
   "id": "84f8159e",
   "metadata": {},
   "source": [
    "### Random Forest Classification Feature Importance"
   ]
  },
  {
   "cell_type": "code",
   "execution_count": 36,
   "id": "206dfca0",
   "metadata": {},
   "outputs": [
    {
     "name": "stdout",
     "output_type": "stream",
     "text": [
      "Feature Importances\n"
     ]
    },
    {
     "data": {
      "text/plain": [
       "[(0.132903729079334, 'TA.TRAY39.F'),\n",
       " (0.1212073970130331, 'TA.Tray4.F'),\n",
       " (0.09331340699524532, 'TA.OH.PSIG'),\n",
       " (0.07172117507605348, 'TA.OH.F'),\n",
       " (0.06647093727745104, 'TA.RECV.PSIG'),\n",
       " (0.0577929201320698, 'TA.BTM.PSIG'),\n",
       " (0.05626059899754798, 'TA.BTM.REBOIL.OUT.F'),\n",
       " (0.05625113314733563, 'TA.BTM.LEVEL.PCT'),\n",
       " (0.049383287839971576, 'TA.REFLUX.BPD'),\n",
       " (0.0457996093968952, 'TA.Charge.BPD'),\n",
       " (0.04405812513096658, 'TA.RECYCLE.TO.CONTACT.BPD'),\n",
       " (0.04356432844359077, 'TA.DP.PSIG'),\n",
       " (0.0429788288313708, 'TA.TOP.REBOIL.OUT.F'),\n",
       " (0.041626333764357384, 'TA.TRAY45.F'),\n",
       " (0.03850077996292219, 'TA.RECV.PCT'),\n",
       " (0.03816740891185508, 'TA.RECYCLE.TO.CONTACT.F')]"
      ]
     },
     "execution_count": 36,
     "metadata": {},
     "output_type": "execute_result"
    }
   ],
   "source": [
    "# random forest for feature importance on a classification problem\n",
    "\n",
    "\n",
    "# define the model\n",
    "model = RandomForestClassifier()\n",
    "\n",
    "# fit the model\n",
    "model.fit(X2, y2)\n",
    "\n",
    "# get importance\n",
    "importance = model.feature_importances_\n",
    "\n",
    "# summarize feature importance\n",
    "#for i,v in enumerate(importance):\n",
    "\t#print('Feature: %0d, Score: %.5f' % (i,v))\n",
    "    \n",
    "# plot feature importance\n",
    "#pyplot.bar([x for x in range(len(importance))], importance)\n",
    "#pyplot.show()\n",
    "\n",
    "print(\"Feature Importances\")\n",
    "sorted(zip(importance, X2.columns), reverse=True)"
   ]
  },
  {
   "cell_type": "markdown",
   "id": "896b5c2c",
   "metadata": {},
   "source": [
    "https://pandas.pydata.org/docs/reference/api/pandas.DataFrame.corr.html"
   ]
  },
  {
   "cell_type": "markdown",
   "id": "8e23a42b",
   "metadata": {},
   "source": [
    "# DataFrame Correlations"
   ]
  },
  {
   "cell_type": "code",
   "execution_count": 37,
   "id": "e3cae280",
   "metadata": {},
   "outputs": [
    {
     "data": {
      "text/plain": [
       "TA.BTM.REBOIL.OUT.F         -0.057369\n",
       "TA.Charge.BPD               -0.048040\n",
       "TA.REFLUX.BPD               -0.045009\n",
       "TA.OH.PSIG                  -0.036392\n",
       "TA.RECV.PSIG                -0.030986\n",
       "TA.RECYCLE.TO.CONTACT.BPD   -0.020948\n",
       "TA.BTM.PSIG                 -0.010442\n",
       "TA.DP.PSIG                  -0.003073\n",
       "TA.RECV.PCT                 -0.001714\n",
       "TA.BTM.LEVEL.PCT             0.002003\n",
       "TA.TOP.REBOIL.OUT.F          0.010450\n",
       "TA.RECYCLE.TO.CONTACT.F      0.028985\n",
       "TA.TRAY45.F                  0.035102\n",
       "TA.OH.F                      0.056341\n",
       "TA.Tray4.F                   0.082409\n",
       "TA.TRAY39.F                  0.116014\n",
       "TA.OVH.RECYCLE.NC4.VOLPCT    1.000000\n",
       "Name: TA.OVH.RECYCLE.NC4.VOLPCT, dtype: float64"
      ]
     },
     "execution_count": 37,
     "metadata": {},
     "output_type": "execute_result"
    }
   ],
   "source": [
    "correlations = tower_a.corr(method='pearson')\n",
    "correlations['TA.OVH.RECYCLE.NC4.VOLPCT'].sort_values()"
   ]
  },
  {
   "cell_type": "markdown",
   "id": "d1ed75d1",
   "metadata": {},
   "source": [
    "I would say that we focus on the correlations that are the strongest, regardless of positive or negative correlation"
   ]
  },
  {
   "cell_type": "markdown",
   "id": "c01dafb2",
   "metadata": {},
   "source": [
    "don't need to worry about dropping features"
   ]
  },
  {
   "cell_type": "code",
   "execution_count": null,
   "id": "26464c50",
   "metadata": {},
   "outputs": [],
   "source": []
  }
 ],
 "metadata": {
  "kernelspec": {
   "display_name": "mlenv",
   "language": "python",
   "name": "mlenv"
  },
  "language_info": {
   "codemirror_mode": {
    "name": "ipython",
    "version": 3
   },
   "file_extension": ".py",
   "mimetype": "text/x-python",
   "name": "python",
   "nbconvert_exporter": "python",
   "pygments_lexer": "ipython3",
   "version": "3.7.13"
  }
 },
 "nbformat": 4,
 "nbformat_minor": 5
}
